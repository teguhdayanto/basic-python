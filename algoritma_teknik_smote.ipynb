{
  "nbformat": 4,
  "nbformat_minor": 0,
  "metadata": {
    "colab": {
      "provenance": []
    },
    "kernelspec": {
      "name": "python3",
      "display_name": "Python 3"
    },
    "language_info": {
      "name": "python"
    }
  },
  "cells": [
    {
      "cell_type": "markdown",
      "source": [
        "# SMOTE untuk Klasifikasi Ketidakseimbangan\n"
      ],
      "metadata": {
        "id": "uq9ZLYLOkhbN"
      }
    },
    {
      "cell_type": "markdown",
      "source": [
        "Klasifikasi yang tidak seimbang melibatkan pengembangan model prediktif pada kumpulan data klasifikasi yang memiliki ketidakseimbangan kelas yang parah.\n",
        "\n",
        "Tantangan dalam bekerja dengan kumpulan data (*dataset*) yang tidak seimbang adalah bahwa sebagian besar teknik pembelajaran mesin (*machine learning*) akan diabaikan, dan pada gilirannya memiliki kinerja yang buruk pada kelas minoritas, meskipun biasanya kinerja pada kelas minoritaslah yang paling penting.\n",
        "\n",
        "Salah satu pendekatan untuk mengatasi kumpulan data yang tidak seimbang adalah dengan mengambil sampel kelas minoritas secara berlebihan. Pendekatan paling sederhana melibatkan duplikasi contoh di kelas minoritas, meskipun contoh ini tidak menambahkan informasi baru ke model. Sebaliknya, contoh baru dapat disintesis dari contoh yang sudah ada. Ini adalah jenis augmentasi data untuk kelas minoritas dan disebut sebagai Teknik Oversampling Minoritas Sintetis (*Synthetic Minority Oversampling Technique*), atau disingkat SMOTE.\n",
        "\n",
        "Disini kita akan menemukan SMOTE untuk oversampling kumpulan data (*dataset*) klasifikasi yang tidak seimbang.\n"
      ],
      "metadata": {
        "id": "dVYjjsD9lXfp"
      }
    },
    {
      "cell_type": "markdown",
      "source": [
        "Masalah dengan klasifikasi yang tidak seimbang adalah bahwa ada terlalu sedikit contoh kelas minoritas bagi model untuk mempelajari batas keputusan secara efektif.\n",
        "\n",
        "Salah satu cara untuk mengatasi masalah ini adalah dengan ***oversample*** contoh di kelas minoritas. Ini dapat dicapai hanya dengan **menduplikasi contoh dari kelas minoritas dalam dataset pelatihan** sebelum menyesuaikan model. Ini dapat menyeimbangkan distribusi kelas tetapi tidak memberikan informasi tambahan apa pun ke model.\n",
        "\n",
        "Perbaikan dalam menduplikasi contoh dari kelas minoritas adalah mensintesiskan contoh baru dari kelas minoritas. Ini adalah jenis augmentasi data untuk data tabular dan bisa sangat efektif.\n",
        "\n",
        "Mungkin pendekatan yang paling banyak digunakan untuk mensintesis contoh baru disebut Teknik Oversampling Minoritas Sintetik, atau disingkat SMOTE. Teknik ini dijelaskan oleh Nitesh Chawla, et al. dalam makalah mereka tahun 2002 yang diberi nama untuk teknik berjudul \"SMOTE: Teknik Over-sampling Minoritas Sintetis.\"\n",
        "\n",
        "SMOTE bekerja dengan memilih contoh yang dekat di ruang fitur, menggambar garis di antara contoh di ruang fitur, dan menggambar sampel baru pada titik di sepanjang garis itu.\n",
        "\n",
        "Secara khusus, contoh acak dari kelas minoritas dipilih terlebih dahulu. Kemudian k dari tetangga terdekat untuk contoh tersebut ditemukan (biasanya k=5). Tetangga yang dipilih secara acak dipilih dan contoh sintetik dibuat pada titik yang dipilih secara acak antara dua contoh di ruang fitur."
      ],
      "metadata": {
        "id": "SdpwsPVWmY3A"
      }
    },
    {
      "cell_type": "markdown",
      "source": [
        "Langkah awal dengan melakukan instalasi modul library.\n"
      ],
      "metadata": {
        "id": "aX_ihvqwnLJ_"
      }
    },
    {
      "cell_type": "code",
      "source": [
        "pip install imbalanced-learn\n"
      ],
      "metadata": {
        "colab": {
          "base_uri": "https://localhost:8080/"
        },
        "id": "mN4E5kzwnT7z",
        "outputId": "011410d2-9c0b-498e-e219-b8810458b8fa"
      },
      "execution_count": null,
      "outputs": [
        {
          "output_type": "stream",
          "name": "stdout",
          "text": [
            "Looking in indexes: https://pypi.org/simple, https://us-python.pkg.dev/colab-wheels/public/simple/\n",
            "Requirement already satisfied: imbalanced-learn in /usr/local/lib/python3.8/dist-packages (0.8.1)\n",
            "Requirement already satisfied: joblib>=0.11 in /usr/local/lib/python3.8/dist-packages (from imbalanced-learn) (1.2.0)\n",
            "Requirement already satisfied: scikit-learn>=0.24 in /usr/local/lib/python3.8/dist-packages (from imbalanced-learn) (1.0.2)\n",
            "Requirement already satisfied: numpy>=1.13.3 in /usr/local/lib/python3.8/dist-packages (from imbalanced-learn) (1.21.6)\n",
            "Requirement already satisfied: scipy>=0.19.1 in /usr/local/lib/python3.8/dist-packages (from imbalanced-learn) (1.7.3)\n",
            "Requirement already satisfied: threadpoolctl>=2.0.0 in /usr/local/lib/python3.8/dist-packages (from scikit-learn>=0.24->imbalanced-learn) (3.1.0)\n"
          ]
        }
      ]
    },
    {
      "cell_type": "markdown",
      "source": [
        "Kita dapat mengonfirmasi bahwa penginstalan berhasil dengan mencetak versi library yang diinstal.\n"
      ],
      "metadata": {
        "id": "CkkXKUWTnl0U"
      }
    },
    {
      "cell_type": "code",
      "source": [
        "# periksa version number\n",
        "import imblearn\n",
        "print(imblearn.__version__)\n"
      ],
      "metadata": {
        "colab": {
          "base_uri": "https://localhost:8080/"
        },
        "id": "PYoB9hZinfA2",
        "outputId": "63b2456d-da06-471d-ea3a-d7ed3b8054d6"
      },
      "execution_count": null,
      "outputs": [
        {
          "output_type": "stream",
          "name": "stdout",
          "text": [
            "0.8.1\n"
          ]
        }
      ]
    },
    {
      "cell_type": "markdown",
      "source": [
        "## SMOTE untuk Menyeimbangkan Data\n"
      ],
      "metadata": {
        "id": "LgM9iBrIoFJC"
      }
    },
    {
      "cell_type": "markdown",
      "source": [
        "Pada bagian ini, kita akan mengembangkan intuisi untuk SMOTE dengan menerapkannya pada masalah klasifikasi biner yang tidak seimbang.\n",
        "\n",
        "Pertama, kita dapat menggunakan fungsi `make_classification()` dari scikit-learn untuk membuat kumpulan data (*dataset*) klasifikasi biner sintetik dengan 10.000 contoh dan distribusi kelas 1:100.\n"
      ],
      "metadata": {
        "id": "_WP1XYofoI_S"
      }
    },
    {
      "cell_type": "code",
      "source": [
        "# tentukan dataset\n",
        "X, y = make_classification(n_samples=10000, n_features=2, n_redundant=0,\n",
        " n_clusters_per_class=1, weights=[0.99], flip_y=0, random_state=1)\n"
      ],
      "metadata": {
        "id": "eVwmmRgoohxS"
      },
      "execution_count": null,
      "outputs": []
    },
    {
      "cell_type": "markdown",
      "source": [
        "Kita bisa menggunakan objek Counter untuk meringkas jumlah contoh di setiap kelas untuk mengkonfirmasi bahwa dataset telah dibuat dengan benar.\n"
      ],
      "metadata": {
        "id": "JveHu9T3o0o5"
      }
    },
    {
      "cell_type": "code",
      "source": [
        "# meringkas distribusi kelas (summarize class distribution)\n",
        "counter = Counter(y)\n",
        "print(counter)\n"
      ],
      "metadata": {
        "colab": {
          "base_uri": "https://localhost:8080/"
        },
        "id": "lEQxEMG8o-wy",
        "outputId": "3251f0aa-75db-40d8-e9d5-8decd63ef2b4"
      },
      "execution_count": null,
      "outputs": [
        {
          "output_type": "stream",
          "name": "stdout",
          "text": [
            "Counter({0: 9900, 1: 100})\n"
          ]
        }
      ]
    },
    {
      "cell_type": "markdown",
      "source": [
        "Terakhir, kita dapat membuat sebaran dataset dan mewarnai contoh untuk setiap kelas dengan warna yang berbeda untuk melihat dengan jelas sifat spasial dari ketidakseimbangan kelas.\n"
      ],
      "metadata": {
        "id": "77e6bRLYpQXF"
      }
    },
    {
      "cell_type": "code",
      "source": [
        "# sebar plot contoh berdasarkan label kelas\n",
        "for label, _ in counter.items():\n",
        " row_ix = where(y == label)[0]\n",
        " pyplot.scatter(X[row_ix, 0], X[row_ix, 1], label=str(label))\n",
        "pyplot.legend()\n",
        "pyplot.show()\n"
      ],
      "metadata": {
        "colab": {
          "base_uri": "https://localhost:8080/",
          "height": 265
        },
        "id": "twjtWxl8pYn2",
        "outputId": "74c28bf4-97e0-4dfb-9ea3-6bc32b8af749"
      },
      "execution_count": null,
      "outputs": [
        {
          "output_type": "display_data",
          "data": {
            "text/plain": [
              "<Figure size 432x288 with 1 Axes>"
            ],
            "image/png": "[encoded data removed]"
          },
          "metadata": {
            "needs_background": "light"
          }
        }
      ]
    },
    {
      "cell_type": "markdown",
      "source": [
        "Menjalankan contoh terlebih dahulu meringkas distribusi kelas, menegaskan rasio 1:100, dalam hal ini dengan sekitar 9.900 contoh di kelas mayoritas dan 100 di kelas minoritas.\n"
      ],
      "metadata": {
        "id": "7i1aAbpvurUd"
      }
    },
    {
      "cell_type": "code",
      "source": [
        "Counter({0: 9900, 1: 100})\n"
      ],
      "metadata": {
        "colab": {
          "base_uri": "https://localhost:8080/"
        },
        "id": "YR3n-FZau0xN",
        "outputId": "f10e693f-5279-4f75-9ed3-33714c3a373c"
      },
      "execution_count": 16,
      "outputs": [
        {
          "output_type": "execute_result",
          "data": {
            "text/plain": [
              "Counter({0: 9900, 1: 100})"
            ]
          },
          "metadata": {},
          "execution_count": 16
        }
      ]
    },
    {
      "cell_type": "markdown",
      "source": [
        "Plot pencar (scatter plot) dari dataset dibuat menunjukkan massa besar titik-titik milik kelas mayoritas (biru) dan sejumlah kecil titik tersebar untuk kelas minoritas (oranye). Kita bisa melihat beberapa ukuran tumpang tindih antara kedua kelas.\n"
      ],
      "metadata": {
        "id": "CvBjlbtxvCL_"
      }
    },
    {
      "cell_type": "markdown",
      "source": [
        "## Teknik Penanganan Data yang Tidak Seimbang\n",
        "\n",
        "Ada 2 algoritma utama yang banyak digunakan untuk menangani distribusi kelas yang tidak seimbang.\n",
        "\n",
        "1.   SMOTE\n",
        "2.   Near Miss Algorithm\n"
      ],
      "metadata": {
        "id": "ivjNs5-Wx6Ru"
      }
    },
    {
      "cell_type": "markdown",
      "source": [
        "**Langkah 1:** Menetapkan kelas minoritas set **A**, untuk setiap $x \\in A$, **k-tetangga terdekat dari x** diperoleh dengan menghitung **jarak Euclidean** antara x dan setiap sampel lainnya di set **A**.\n",
        "\n",
        "**Langkah 2:** Laju pengambilan sampel **N** diatur sesuai dengan proporsi yang tidak seimbang. Untuk setiap $x \\in A$, **N** contoh (yaitu x1, x2, …xn) dipilih secara acak dari k-tetangga terdekatnya, dan mereka membuat set $A_1$ .\n",
        "\n",
        "**Langkah 3:** Untuk setiap contoh $x_k \\in A_1$ (k=1, 2, 3…N), rumus berikut digunakan untuk membuat contoh baru:\n",
        "$x' = x + rand(0, 1) * \\mid x - x_k \\mid$\n",
        "di mana rand(0, 1) mewakili angka acak antara 0 dan 1.\n"
      ],
      "metadata": {
        "id": "DfwbzoTKyS_5"
      }
    },
    {
      "cell_type": "markdown",
      "source": [
        "## Algoritma NearMiss – Undersampling\n",
        "\n",
        "NearMiss adalah teknik under-sampling. Ini bertujuan untuk menyeimbangkan distribusi kelas dengan menghilangkan contoh kelas mayoritas secara acak. Ketika instance dari dua kelas yang berbeda sangat dekat satu sama lain, kami menghapus instance dari kelas mayoritas untuk menambah jarak antara kedua kelas. Ini membantu dalam proses klasifikasi.\n",
        "\n",
        "Untuk mencegah masalah kehilangan informasi pada sebagian besar teknik pengambilan sampel di bawah, metode near-neighbor digunakan secara luas.\n"
      ],
      "metadata": {
        "id": "4-VGF1-BzKSi"
      }
    },
    {
      "cell_type": "markdown",
      "source": [
        "Intuisi dasar tentang cara kerja metode near-neighbor adalah sebagai berikut:\n",
        "\n",
        "Langkah 1: Metode pertama menemukan jarak antara semua instance dari kelas mayoritas dan instance dari kelas minoritas. Di sini, kelas mayoritas menjadi sampel yang kurang.\n",
        "\n",
        "Langkah 2: Kemudian, n instance dari kelas mayoritas yang memiliki jarak terkecil ke kelas minoritas dipilih.\n",
        "\n",
        "Langkah 3: Jika ada k instance di kelas minoritas, metode terdekat akan menghasilkan k * n instance dari kelas mayoritas.\n"
      ],
      "metadata": {
        "id": "FeP-o6I5zhTN"
      }
    },
    {
      "cell_type": "markdown",
      "source": [
        "Untuk menemukan n instance terdekat di kelas mayoritas, ada beberapa variasi penerapan Algoritma NearMiss:\n",
        "\n",
        "NearMiss – Versi 1 : Ini memilih sampel dari kelas mayoritas yang jarak rata-rata ke k contoh **terdekat** dari kelas minoritas adalah yang terkecil.\n",
        "\n",
        "NearMiss – Versi 2 : Ini memilih sampel dari kelas mayoritas yang jarak rata-rata ke k contoh **terjauh** dari kelas minoritas adalah yang terkecil.\n",
        "\n",
        "NearMiss – Versi 3 : Bekerja dalam 2 langkah. Pertama, untuk setiap instance kelas minoritas, **M tetangga terdekatnya** (*nearest-neighbors*) akan disimpan. Kemudian akhirnya, instance kelas mayoritas dipilih yang jarak rata-rata ke N tetangga terdekat adalah yang terbesar.\n"
      ],
      "metadata": {
        "id": "muXy6hxZzwXY"
      }
    },
    {
      "cell_type": "code",
      "source": [
        "# import modul libraries\n",
        "import pandas  as pd\n",
        "import matplotlib.pyplot as plt\n",
        "import numpy as np\n",
        "from sklearn.linear_model import LogisticRegression\n",
        "from sklearn.preprocessing import StandardScaler\n",
        "from sklearn.metrics import confusion_matrix, classification_report\n"
      ],
      "metadata": {
        "id": "EmXFIllD0vxx"
      },
      "execution_count": 46,
      "outputs": []
    },
    {
      "cell_type": "markdown",
      "source": [
        "Dataset terdiri dari transaksi yang dilakukan oleh kartu kredit. Dataset ini memiliki 492 transaksi penipuan dari 284.807 transaksi. Itu membuatnya sangat tidak seimbang, kelas positif (penipuan) menyumbang 0,172% dari semua transaksi.\n"
      ],
      "metadata": {
        "id": "_0dGxKWh1BAU"
      }
    },
    {
      "cell_type": "code",
      "source": [
        "# load dataset\n",
        "data = pd.read_csv('creditcard.csv')\n",
        "  \n",
        "# cetak info tentang kolom dalam dataframe\n",
        "print(data.info())\n"
      ],
      "metadata": {
        "colab": {
          "base_uri": "https://localhost:8080/"
        },
        "id": "afQh213K1I-9",
        "outputId": "15b63211-e671-4a72-f78b-e1ab120eb74f"
      },
      "execution_count": 47,
      "outputs": [
        {
          "output_type": "stream",
          "name": "stdout",
          "text": [
            "<class 'pandas.core.frame.DataFrame'>\n",
            "RangeIndex: 284807 entries, 0 to 284806\n",
            "Data columns (total 31 columns):\n",
            " #   Column  Non-Null Count   Dtype  \n",
            "---  ------  --------------   -----  \n",
            " 0   Time    284807 non-null  float64\n",
            " 1   V1      284807 non-null  float64\n",
            " 2   V2      284807 non-null  float64\n",
            " 3   V3      284807 non-null  float64\n",
            " 4   V4      284807 non-null  float64\n",
            " 5   V5      284807 non-null  float64\n",
            " 6   V6      284807 non-null  float64\n",
            " 7   V7      284807 non-null  float64\n",
            " 8   V8      284807 non-null  float64\n",
            " 9   V9      284807 non-null  float64\n",
            " 10  V10     284807 non-null  float64\n",
            " 11  V11     284807 non-null  float64\n",
            " 12  V12     284807 non-null  float64\n",
            " 13  V13     284807 non-null  float64\n",
            " 14  V14     284807 non-null  float64\n",
            " 15  V15     284807 non-null  float64\n",
            " 16  V16     284807 non-null  float64\n",
            " 17  V17     284807 non-null  float64\n",
            " 18  V18     284807 non-null  float64\n",
            " 19  V19     284807 non-null  float64\n",
            " 20  V20     284807 non-null  float64\n",
            " 21  V21     284807 non-null  float64\n",
            " 22  V22     284807 non-null  float64\n",
            " 23  V23     284807 non-null  float64\n",
            " 24  V24     284807 non-null  float64\n",
            " 25  V25     284807 non-null  float64\n",
            " 26  V26     284807 non-null  float64\n",
            " 27  V27     284807 non-null  float64\n",
            " 28  V28     284807 non-null  float64\n",
            " 29  Amount  284807 non-null  float64\n",
            " 30  Class   284807 non-null  int64  \n",
            "dtypes: float64(30), int64(1)\n",
            "memory usage: 67.4 MB\n",
            "None\n"
          ]
        }
      ]
    },
    {
      "cell_type": "code",
      "source": [
        "pd.value_counts(data['Class']).plot.bar()\n",
        "plt.title('Fraud class histogram')\n",
        "plt.xlabel('Class')\n",
        "plt.ylabel('Frequency')\n",
        "\n",
        "# seperti yang kita ketahui ada 492 transaksi fraud\n",
        "data['Class'].value_counts()"
      ],
      "metadata": {
        "colab": {
          "base_uri": "https://localhost:8080/",
          "height": 344
        },
        "id": "WstiUbN1GPFh",
        "outputId": "e9886df6-3eed-4bec-e511-7b72f0c3313e"
      },
      "execution_count": 48,
      "outputs": [
        {
          "output_type": "execute_result",
          "data": {
            "text/plain": [
              "0    284315\n",
              "1       492\n",
              "Name: Class, dtype: int64"
            ]
          },
          "metadata": {},
          "execution_count": 48
        },
        {
          "output_type": "display_data",
          "data": {
            "text/plain": [
              "<Figure size 432x288 with 1 Axes>"
            ],
            "image/png": "[encoded data removed]"
          },
          "metadata": {
            "needs_background": "light"
          }
        }
      ]
    },
    {
      "cell_type": "code",
      "source": [
        "# menormalkan kolom Amount\n",
        "data['normAmount'] = StandardScaler().fit_transform(np.array(data['Amount']).reshape(-1, 1))\n",
        "\n",
        "# hapus kolom Time dan Amount karena tidak relevan untuk tujuan prediksi\n",
        "data = data.drop(['Time', 'Amount'], axis = 1)\n"
      ],
      "metadata": {
        "id": "ft6Nzw4-AlRu"
      },
      "execution_count": 49,
      "outputs": []
    },
    {
      "cell_type": "code",
      "source": [
        "# Pisahkan data menjadi training set dan test set\n",
        "from sklearn.model_selection import train_test_split\n",
        "\n",
        "# pisahkan dengan rasio 70:30\n",
        "X_train, X_test, y_train, y_test = train_test_split(X, y, test_size = 0.3, random_state = 0)\n",
        "\n",
        "# gambarkan info tentang train dan test set\n",
        "print(\"Number transactions X_train dataset: \", X_train.shape)\n",
        "print(\"Number transactions y_train dataset: \", y_train.shape)\n",
        "print(\"Number transactions X_test dataset: \", X_test.shape)\n",
        "print(\"Number transactions y_test dataset: \", y_test.shape)\n"
      ],
      "metadata": {
        "colab": {
          "base_uri": "https://localhost:8080/"
        },
        "id": "Bhc2_RWjBJxe",
        "outputId": "9eb1e7d0-ad95-40ff-b7a4-db19d56ef0f9"
      },
      "execution_count": 50,
      "outputs": [
        {
          "output_type": "stream",
          "name": "stdout",
          "text": [
            "Number transactions X_train dataset:  (7000, 2)\n",
            "Number transactions y_train dataset:  (7000,)\n",
            "Number transactions X_test dataset:  (3000, 2)\n",
            "Number transactions y_test dataset:  (3000,)\n"
          ]
        }
      ]
    },
    {
      "cell_type": "code",
      "source": [
        "# Sekarang latih model tanpa menangani distribusi kelas yang tidak seimbang\n",
        "\n",
        "# logistic regression object\n",
        "lr = LogisticRegression()\n",
        "\n",
        "# train the model on train set\n",
        "lr.fit(X_train, y_train.ravel())\n",
        "\n",
        "predictions = lr.predict(X_test)\n",
        "\n",
        "# print classification report\n",
        "print(classification_report(y_test, predictions))\n"
      ],
      "metadata": {
        "colab": {
          "base_uri": "https://localhost:8080/"
        },
        "id": "BLtvRwg5CACG",
        "outputId": "07d80848-8818-41b5-e174-3a0603c778a0"
      },
      "execution_count": 51,
      "outputs": [
        {
          "output_type": "stream",
          "name": "stdout",
          "text": [
            "              precision    recall  f1-score   support\n",
            "\n",
            "           0       1.00      1.00      1.00      2977\n",
            "           1       1.00      0.43      0.61        23\n",
            "\n",
            "    accuracy                           1.00      3000\n",
            "   macro avg       1.00      0.72      0.80      3000\n",
            "weighted avg       1.00      1.00      0.99      3000\n",
            "\n"
          ]
        }
      ]
    },
    {
      "cell_type": "markdown",
      "source": [
        "Keakuratannya mencapai 100% tetapi apakah kita melihat sesuatu yang aneh?\n",
        "\n",
        "Ingatan kelas minoritas sangat kurang. Ini membuktikan bahwa model tersebut lebih bias terhadap kelas mayoritas. Jadi, ini membuktikan bahwa ini bukan model terbaik.\n",
        "\n",
        "Sekarang, kita akan menerapkan berbagai teknik penanganan data yang tidak seimbang dan melihat akurasi dan hasil penarikannya.\n"
      ],
      "metadata": {
        "id": "uoQ8iEBBCSeU"
      }
    },
    {
      "cell_type": "markdown",
      "source": [
        "## Menggunakan Algoritma SMOTE\n"
      ],
      "metadata": {
        "id": "s3QhHnI6C6Sa"
      }
    },
    {
      "cell_type": "code",
      "source": [
        "# pip install imblearn (jika kita belum memiliki imblearn dalam sistem kita)\n",
        "!pip install imblearn\n"
      ],
      "metadata": {
        "colab": {
          "base_uri": "https://localhost:8080/"
        },
        "id": "DAomNcp4DkVX",
        "outputId": "80f8c7ae-4bc3-4ec5-8094-1c3c56f9dc01"
      },
      "execution_count": 54,
      "outputs": [
        {
          "output_type": "stream",
          "name": "stdout",
          "text": [
            "Looking in indexes: https://pypi.org/simple, https://us-python.pkg.dev/colab-wheels/public/simple/\n",
            "Requirement already satisfied: imblearn in /usr/local/lib/python3.8/dist-packages (0.0)\n",
            "Requirement already satisfied: imbalanced-learn in /usr/local/lib/python3.8/dist-packages (from imblearn) (0.8.1)\n",
            "Requirement already satisfied: scikit-learn>=0.24 in /usr/local/lib/python3.8/dist-packages (from imbalanced-learn->imblearn) (1.0.2)\n",
            "Requirement already satisfied: scipy>=0.19.1 in /usr/local/lib/python3.8/dist-packages (from imbalanced-learn->imblearn) (1.7.3)\n",
            "Requirement already satisfied: numpy>=1.13.3 in /usr/local/lib/python3.8/dist-packages (from imbalanced-learn->imblearn) (1.21.6)\n",
            "Requirement already satisfied: joblib>=0.11 in /usr/local/lib/python3.8/dist-packages (from imbalanced-learn->imblearn) (1.2.0)\n",
            "Requirement already satisfied: threadpoolctl>=2.0.0 in /usr/local/lib/python3.8/dist-packages (from scikit-learn>=0.24->imbalanced-learn->imblearn) (3.1.0)\n"
          ]
        }
      ]
    },
    {
      "cell_type": "code",
      "source": [
        "print(\"Before OverSampling, counts of label '1': {}\".format(sum(y_train == 1)))\n",
        "print(\"Before OverSampling, counts of label '0': {} \\n\".format(sum(y_train == 0)))\n",
        "\n",
        "# import modul SMOTE dari imblearn library\n",
        "\n",
        "from imblearn.over_sampling import SMOTE\n",
        "sm = SMOTE(random_state = 2)\n",
        "X_train_res, y_train_res = sm.fit_resample(X_train, y_train.ravel())        # dahulu fit_sample\n",
        "\n",
        "print('After OverSampling, the shape of train_X: {}'.format(X_train_res.shape))\n",
        "print('After OverSampling, the shape of train_y: {} \\n'.format(y_train_res.shape))\n",
        "\n",
        "print(\"After OverSampling, counts of label '1': {}\".format(sum(y_train_res == 1)))\n",
        "print(\"After OverSampling, counts of label '0': {}\".format(sum(y_train_res == 0)))\n"
      ],
      "metadata": {
        "colab": {
          "base_uri": "https://localhost:8080/"
        },
        "id": "LMjwQ_FgC3m9",
        "outputId": "85601338-ca21-4748-ec43-d52a5370d880"
      },
      "execution_count": 55,
      "outputs": [
        {
          "output_type": "stream",
          "name": "stdout",
          "text": [
            "Before OverSampling, counts of label '1': 77\n",
            "Before OverSampling, counts of label '0': 6923 \n",
            "\n",
            "After OverSampling, the shape of train_X: (13846, 2)\n",
            "After OverSampling, the shape of train_y: (13846,) \n",
            "\n",
            "After OverSampling, counts of label '1': 6923\n",
            "After OverSampling, counts of label '0': 6923\n"
          ]
        }
      ]
    },
    {
      "cell_type": "markdown",
      "source": [
        "Lihat! bahwa Algoritma SMOTE telah oversampling instance minoritas dan membuatnya sama dengan kelas mayoritas. Kedua kategori memiliki jumlah catatan yang sama. Lebih khusus lagi, kelas minoritas telah ditingkatkan menjadi jumlah total kelas mayoritas.\n",
        "Sekarang lihat akurasi dan hasil recall setelah menerapkan algoritma SMOTE (Oversampling).\n"
      ],
      "metadata": {
        "id": "0yGFSbqJHS9v"
      }
    },
    {
      "cell_type": "code",
      "source": [
        "# Prediksi dan Recall\n",
        "\n",
        "lr1 = LogisticRegression()\n",
        "lr1.fit(X_train_res, y_train_res.ravel())\n",
        "predictions = lr1.predict(X_test)\n",
        "\n",
        "# print classification report\n",
        "print(classification_report(y_test, predictions))\n"
      ],
      "metadata": {
        "colab": {
          "base_uri": "https://localhost:8080/"
        },
        "id": "zTaUcur5HdZa",
        "outputId": "729c480e-378d-4bb2-e71d-f9fa99a660b5"
      },
      "execution_count": 56,
      "outputs": [
        {
          "output_type": "stream",
          "name": "stdout",
          "text": [
            "              precision    recall  f1-score   support\n",
            "\n",
            "           0       1.00      0.93      0.96      2977\n",
            "           1       0.09      0.91      0.16        23\n",
            "\n",
            "    accuracy                           0.93      3000\n",
            "   macro avg       0.54      0.92      0.56      3000\n",
            "weighted avg       0.99      0.93      0.96      3000\n",
            "\n"
          ]
        }
      ]
    },
    {
      "cell_type": "markdown",
      "source": [
        "Wow, Kita telah mengurangi akurasi hingga 93% dibandingkan model sebelumnya tetapi nilai recall kelas minoritas juga meningkat menjadi 91%. Ini adalah model yang bagus dibandingkan dengan yang sebelumnya. Recall itu bagus.\n",
        "\n",
        "Sekarang, kita akan menerapkan teknik NearMiss ke Under-sample kelas mayoritas dan melihat akurasi dan hasil recall-nya.\n"
      ],
      "metadata": {
        "id": "ZTjDXRfVH0KC"
      }
    },
    {
      "cell_type": "markdown",
      "source": [
        "## NearMiss Algorithm\n"
      ],
      "metadata": {
        "id": "MpEYZSY8IXvv"
      }
    },
    {
      "cell_type": "code",
      "source": [
        "print(\"Before Undersampling, counts of label '1': {}\".format(sum(y_train == 1)))\n",
        "print(\"Before Undersampling, counts of label '0': {} \\n\".format(sum(y_train == 0)))\n",
        "\n",
        "# menerapkan algoritma near miss\n",
        "from imblearn.under_sampling import NearMiss\n",
        "nr = NearMiss()\n",
        "\n",
        "X_train_miss, y_train_miss = nr.fit_resample(X_train, y_train.ravel())        # dahulu fit_sample\n",
        "\n",
        "print('After Undersampling, the shape of train_X: {}'.format(X_train_miss.shape))\n",
        "print('After Undersampling, the shape of train_y: {} \\n'.format(y_train_miss.shape))\n",
        "\n",
        "print(\"After Undersampling, counts of label '1': {}\".format(sum(y_train_miss == 1)))\n",
        "print(\"After Undersampling, counts of label '0': {}\".format(sum(y_train_miss == 0)))\n"
      ],
      "metadata": {
        "colab": {
          "base_uri": "https://localhost:8080/"
        },
        "id": "gOi54U_rIdy-",
        "outputId": "3c2b1b19-a074-4dfa-f142-1d9992160b16"
      },
      "execution_count": 58,
      "outputs": [
        {
          "output_type": "stream",
          "name": "stdout",
          "text": [
            "Before Undersampling, counts of label '1': 77\n",
            "Before Undersampling, counts of label '0': 6923 \n",
            "\n",
            "After Undersampling, the shape of train_X: (154, 2)\n",
            "After Undersampling, the shape of train_y: (154,) \n",
            "\n",
            "After Undersampling, counts of label '1': 77\n",
            "After Undersampling, counts of label '0': 77\n"
          ]
        }
      ]
    },
    {
      "cell_type": "markdown",
      "source": [
        "Algoritma NearMiss telah mengecilkan contoh mayoritas dan membuatnya sama dengan kelas mayoritas. Di sini, kelas mayoritas telah direduksi menjadi jumlah kelas minoritas, sehingga kedua kelas akan memiliki jumlah record yang sama.\n"
      ],
      "metadata": {
        "id": "MHUbZxHEI8fm"
      }
    },
    {
      "cell_type": "code",
      "source": [
        "# Prediksi dan Recall\n",
        "\n",
        "# latih (train) model pada train set\n",
        "lr2 = LogisticRegression()\n",
        "lr2.fit(X_train_miss, y_train_miss.ravel())\n",
        "predictions = lr2.predict(X_test)\n",
        "\n",
        "# cetak classification report\n",
        "print(classification_report(y_test, predictions))\n"
      ],
      "metadata": {
        "colab": {
          "base_uri": "https://localhost:8080/"
        },
        "id": "pOOh04xFJEcp",
        "outputId": "db537d44-70f2-4140-ff6c-b8638edab9f5"
      },
      "execution_count": 59,
      "outputs": [
        {
          "output_type": "stream",
          "name": "stdout",
          "text": [
            "              precision    recall  f1-score   support\n",
            "\n",
            "           0       1.00      0.99      1.00      2977\n",
            "           1       0.49      0.78      0.60        23\n",
            "\n",
            "    accuracy                           0.99      3000\n",
            "   macro avg       0.74      0.89      0.80      3000\n",
            "weighted avg       0.99      0.99      0.99      3000\n",
            "\n"
          ]
        }
      ]
    },
    {
      "cell_type": "markdown",
      "source": [
        "Model ini masih kurang baik dibanding dari model pertama karena mengklasifikasikan lebih rendah dan juga nilai recall kelas minoritas adalah 78%. Dan juga karena oversampling kelas mayoritas, recall-nya menaik hingga 99%. Jadi dalam hal ini, SMOTE memberikan nilai akurasi dan recall yang ok, dan kita akan memilih untuk melanjutkan dan menggunakan model itu, SMOTE! 🙂\n"
      ],
      "metadata": {
        "id": "gGLYXhb-Joc2"
      }
    }
  ]
}