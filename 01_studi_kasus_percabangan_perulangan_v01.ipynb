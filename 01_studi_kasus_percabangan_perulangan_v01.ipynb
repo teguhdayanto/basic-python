{
  "nbformat": 4,
  "nbformat_minor": 0,
  "metadata": {
    "colab": {
      "provenance": [],
      "toc_visible": true
    },
    "kernelspec": {
      "name": "python3",
      "display_name": "Python 3"
    },
    "language_info": {
      "name": "python"
    }
  },
  "cells": [
    {
      "cell_type": "markdown",
      "source": [
        "# PERCABANGAN\n"
      ],
      "metadata": {
        "id": "DOb3uuGesiqP"
      }
    },
    {
      "cell_type": "markdown",
      "source": [
        "Python mendukung kondisi logis yang biasa dari matematika:\n",
        "\n",
        "Equals (Sama Dengan) : a == b\n",
        "\n",
        "Not Equals (Tidak Sama Dengan) : a != b\n",
        "\n",
        "Less Than (Kurang Dari) : a < b\n",
        "\n",
        "Less Than or Equal To (Kurang Dari atau Sama Dengan) : a <= b\n",
        "\n",
        "Greater Than (Lebih Besar Dari) : a > b\n",
        "\n",
        "Greater Than or Equal To (Lebih Besar Dari atau Sama Dengan) : a >= b\n",
        "\n",
        "Kondisi ini dapat digunakan dalam beberapa cara, paling umum dalam \"**pernyataan if**\" dan perulangan (**loop**).\n",
        "\n",
        "Sebuah \"pernyataan if\" ditulis dengan menggunakan kata kunci **if**.\n"
      ],
      "metadata": {
        "id": "o3axru3eAApc"
      }
    },
    {
      "cell_type": "code",
      "execution_count": null,
      "metadata": {
        "colab": {
          "base_uri": "https://localhost:8080/"
        },
        "id": "lQn5H58OdUW4",
        "outputId": "de1345a4-c57b-4cba-a1e2-6abaf8860bff"
      },
      "outputs": [
        {
          "output_type": "stream",
          "name": "stdout",
          "text": [
            "Kode program ini akan dieksekusi\n",
            "Kode program ini akan dieksekusi karena diluar blok kode\n"
          ]
        }
      ],
      "source": [
        "if True:\n",
        "  print('Kode program ini akan dieksekusi')\n",
        "\n",
        "if False:                 # tidak dieksekusi karena bernilai false\n",
        "  print('Kode proram ini tidak akan dieksekusi')\n",
        "print('Kode program ini akan dieksekusi karena diluar blok kode')\n"
      ]
    },
    {
      "cell_type": "code",
      "source": [
        "if 5 > 10:\n",
        "  print(\"5 lebih besar dari 10\")\n",
        "\n",
        "if 10 > 5:\n",
        "  print(\"10 lebih besar dari 5\")"
      ],
      "metadata": {
        "colab": {
          "base_uri": "https://localhost:8080/"
        },
        "id": "tVb1XFDMka2q",
        "outputId": "13ed5bc1-4365-445a-cd3b-43607ee389fb"
      },
      "execution_count": null,
      "outputs": [
        {
          "output_type": "stream",
          "name": "stdout",
          "text": [
            "10 lebih besar dari 5\n"
          ]
        }
      ]
    },
    {
      "cell_type": "code",
      "source": [
        "nilai = int(input(\"Masukkan nilai Anda : \"))\n",
        "\n",
        "print('Nilai Anda adalah   :', nilai, '\\n')\n",
        "\n",
        "if nilai >= 70:\n",
        "  print('Selamat, Anda lulus')\n",
        "else:\n",
        "  print('Maaf, Anda tidak lulus')\n"
      ],
      "metadata": {
        "colab": {
          "base_uri": "https://localhost:8080/"
        },
        "id": "ZqpfgbYfjEWr",
        "outputId": "7c15055e-1880-4ee6-f741-f2a83f3f2570"
      },
      "execution_count": null,
      "outputs": [
        {
          "output_type": "stream",
          "name": "stdout",
          "text": [
            "Masukkan nilai Anda : 46\n",
            "Nilai Anda adalah   : 46 \n",
            "\n",
            "Maaf, Anda tidak lulus\n"
          ]
        }
      ]
    },
    {
      "cell_type": "code",
      "source": [
        "nilai = int(input(\"Masukkan nilai Anda : \"))\n",
        "\n",
        "print('Nilai Anda adalah   :', nilai, '\\n')\n",
        "\n",
        "if nilai >= 90:\n",
        "  print('Grade Anda adalah A')\n",
        "  print(\"Anda Lulus\")\n",
        "elif nilai >= 80:\n",
        "  print('Grade Anda adalah B')\n",
        "  print(\"Anda Lulus\")\n",
        "elif nilai >= 60:\n",
        "  print('Grade Anda adalah C')\n",
        "  print(\"Anda Lulus\")\n",
        "elif nilai >= 40:\n",
        "  print('Grade Anda adalah D')\n",
        "  print(\"Anda Belum Lulus\")\n",
        "else:\n",
        "  print('Grade Anda adalah E')\n",
        "  print(\"Anda Belum Lulus\")\n"
      ],
      "metadata": {
        "colab": {
          "base_uri": "https://localhost:8080/"
        },
        "id": "4ajbb9w0nUMb",
        "outputId": "d3725a2b-4172-4325-c525-a6a1dfcf3a0e"
      },
      "execution_count": null,
      "outputs": [
        {
          "output_type": "stream",
          "name": "stdout",
          "text": [
            "Masukkan nilai Anda : 24\n",
            "Nilai Anda adalah   : 24 \n",
            "\n",
            "Grade Anda adalah E\n",
            "Anda Belum Lulus\n"
          ]
        }
      ]
    },
    {
      "cell_type": "code",
      "source": [
        "# Bagaimana jika elif diganti dengan if ?\n",
        "\n",
        "nilai = int(input(\"Masukkan nilai Anda : \"))\n",
        "\n",
        "print('Nilai Anda adalah   :', nilai, '\\n')\n",
        "\n",
        "if nilai >= 90:\n",
        "  print('Grade Anda adalah A')\n",
        "  print(\"Anda Lulus\")\n",
        "if nilai >= 80:\n",
        "  print('Grade Anda adalah B')\n",
        "  print(\"Anda Lulus\")\n",
        "if nilai >= 60:\n",
        "  print('Grade Anda adalah C')\n",
        "  print(\"Anda Lulus\")\n",
        "if nilai >= 40:\n",
        "  print('Grade Anda adalah D')\n",
        "  print(\"Anda Belum Lulus\")\n",
        "else:\n",
        "  print('Grade Anda adalah E')\n",
        "  print(\"Anda Belum Lulus\")\n"
      ],
      "metadata": {
        "colab": {
          "base_uri": "https://localhost:8080/"
        },
        "id": "L3SzAZ3xo9tY",
        "outputId": "c20515cd-ea88-48f3-fef5-bfbbfe923a78"
      },
      "execution_count": null,
      "outputs": [
        {
          "output_type": "stream",
          "name": "stdout",
          "text": [
            "Masukkan nilai Anda : 67\n",
            "Nilai Anda adalah   : 67 \n",
            "\n",
            "Grade Anda adalah C\n",
            "Anda Lulus\n",
            "Grade Anda adalah D\n",
            "Anda Belum Lulus\n"
          ]
        }
      ]
    },
    {
      "cell_type": "markdown",
      "source": [
        "karena setiap kali kita membuat blok code if , itu artinya kita membuat pohon percabangan baru.\n"
      ],
      "metadata": {
        "id": "bzQZPq6wpOHm"
      }
    },
    {
      "cell_type": "markdown",
      "source": [
        "## Percabangan 1 baris\n",
        "\n",
        "Disebut juga dengan TERNARY\n"
      ],
      "metadata": {
        "id": "sC30edhFseNr"
      }
    },
    {
      "cell_type": "code",
      "source": [
        "nilai = int(input(\"Masukkan nilai Anda : \"))\n",
        "\n",
        "if nilai >=70:\n",
        "  status = 'Anda lulus'\n",
        "else:\n",
        "  status = 'Anda tidak lulus'\n",
        "\n",
        "print(status)\n"
      ],
      "metadata": {
        "colab": {
          "base_uri": "https://localhost:8080/"
        },
        "id": "Y-Jp8i7htFCE",
        "outputId": "f5d96af6-35a5-493f-934e-ae2ba6c2f8e1"
      },
      "execution_count": null,
      "outputs": [
        {
          "output_type": "stream",
          "name": "stdout",
          "text": [
            "Masukkan nilai Anda : 54\n",
            "Anda tidak lulus\n"
          ]
        }
      ]
    },
    {
      "cell_type": "code",
      "source": [
        "# bentuk ternary\n",
        "\n",
        "nilai = int(input(\"Masukkan nilai Anda : \"))\n",
        "\n",
        "status = 'Anda lulus' if nilai >= 70 else 'Anda tidak lulus'\n",
        "\n",
        "print(status)\n"
      ],
      "metadata": {
        "colab": {
          "base_uri": "https://localhost:8080/"
        },
        "id": "0brnYEVZtnjL",
        "outputId": "8a65201c-3e44-4c73-c259-2c7a7ff8bfe3"
      },
      "execution_count": null,
      "outputs": [
        {
          "output_type": "stream",
          "name": "stdout",
          "text": [
            "Masukkan nilai Anda : 56\n",
            "Anda tidak lulus\n"
          ]
        }
      ]
    },
    {
      "cell_type": "markdown",
      "source": [
        "## Percabangan bertingkat\n",
        "\n",
        "Kondisi dimana dalam suatu blok kode if ada blok kode if lagi di dalamnya. Biar gampang mengingat, kalo di dalam makanan bakso bertingkat... di dalam bakso ada bakso lagi, lalu pas dibuka ada baksi lagi sampe ketemu isinya, yaitu bisa telor puyuh, bisa juga sambel pedessss ....\n"
      ],
      "metadata": {
        "id": "x_2jDpnwvK25"
      }
    },
    {
      "cell_type": "code",
      "source": [
        "'''\n",
        "Kondisi\n",
        "Nilai yang lulus >= 75\n",
        "Usia < 15 tahun dipanggil adek\n",
        "usia >=15 tahun dipanggil kakak\n",
        "'''\n",
        "\n",
        "nilai = int(input(\"Masukkan nilai kamu : \"))\n",
        "usia  = int(input(\"Masukkan usia kamu  : \"))\n",
        "\n",
        "if nilai >=75:\n",
        "  if (usia < 15):\n",
        "    print(\"Selamat adek, kamu lulus\")\n",
        "  else:\n",
        "    print(\"Selamat kakak, kamu lulus\")\n",
        "else:\n",
        "  if (usia < 15):\n",
        "    print(\"Mohon maaf adek, coba lagi ya\")\n",
        "  else:\n",
        "    print(\"Mohon maaf kakak, coba lagi ya\")\n"
      ],
      "metadata": {
        "colab": {
          "base_uri": "https://localhost:8080/"
        },
        "id": "zIM84Zodvt4_",
        "outputId": "f5ae3999-0d54-4cf1-f068-7be4f89c530e"
      },
      "execution_count": null,
      "outputs": [
        {
          "output_type": "stream",
          "name": "stdout",
          "text": [
            "Masukkan nilai kamu : 34\n",
            "Masukkan usia kamu  : 24\n",
            "Mohon maaf kakak, coba lagi ya\n"
          ]
        }
      ]
    },
    {
      "cell_type": "markdown",
      "source": [
        "Kode program diatas memeriksa nilai terlebih dahulu, apakah lulus atau tidak. Kemudian dilanjutkan ke usia, apakah dipanggil dengan kakak atau adek.\n"
      ],
      "metadata": {
        "id": "_3BJyhkpBYzs"
      }
    },
    {
      "cell_type": "markdown",
      "source": [
        "## Contoh BONUS & DISKON BELANJA\n"
      ],
      "metadata": {
        "id": "SbrWmkNodnqi"
      }
    },
    {
      "cell_type": "code",
      "source": [
        "total_belanja = int(input(\"Total belanja : Rp \"))\n",
        "\n",
        "bayar = total_belanja\n",
        "\n",
        "if total_belanja >= 100000:\n",
        "  print(\"Kamu mendapatkan bonus 1 botol minuman dingin\")\n",
        "  print(\"Dan diskon 5%\", '\\n')\n",
        "\n",
        "  diskon = total_belanja * 5/100\n",
        "  bayar  = int(total_belanja - diskon)\n",
        "\n",
        "# print(\"Total yang harus dibayar : Rp %s\" % bayar)\n",
        "print(\"Total yang harus dibayar : Rp\", bayar)\n",
        "print(\"Terima kasih sudah berbelanja\")\n",
        "print(\"Datang lagi yaa...\")\n"
      ],
      "metadata": {
        "colab": {
          "base_uri": "https://localhost:8080/"
        },
        "id": "3J8RG2p_dus5",
        "outputId": "47e9cebb-fe3d-468c-e068-23feb89389d5"
      },
      "execution_count": null,
      "outputs": [
        {
          "output_type": "stream",
          "name": "stdout",
          "text": [
            "Total belanja : Rp 2000000\n",
            "Kamu mendapatkan bonus 1 botol minuman dingin\n",
            "Dan diskon 5% \n",
            "\n",
            "Total yang harus dibayar : Rp 1900000\n",
            "Terima kasih sudah berbelanja\n",
            "Datang lagi yaa...\n"
          ]
        }
      ]
    },
    {
      "cell_type": "markdown",
      "source": [
        "## Contoh DERET 3 ANGKA\n"
      ],
      "metadata": {
        "id": "oF2sqytSE_2E"
      }
    },
    {
      "cell_type": "markdown",
      "source": [
        "### Mencari angka tertinggi diantara 3 angka\n"
      ],
      "metadata": {
        "id": "Lm5cGxRFFD8L"
      }
    },
    {
      "cell_type": "code",
      "source": [
        "a = int(input(\"Masukkan nilai A : \"))\n",
        "b = int(input(\"Masukkan nilai B : \"))\n",
        "c = int(input(\"Masukkan nilai C : \"))\n",
        "\n",
        "if a < b and a < c:\n",
        "  print(\"A nilai yang terendah\")\n",
        "elif b < c and b < a:\n",
        "  print(\"B nilai yang terendah\")\n",
        "else:\n",
        "  print(\"C nilai yang terendah\")\n"
      ],
      "metadata": {
        "colab": {
          "base_uri": "https://localhost:8080/"
        },
        "id": "hKcI-skGSmrw",
        "outputId": "956c5576-5bf0-4a7a-eab0-42af33b51dc0"
      },
      "execution_count": null,
      "outputs": [
        {
          "output_type": "stream",
          "name": "stdout",
          "text": [
            "Masukkan nilai A : 4\n",
            "Masukkan nilai B : 9\n",
            "Masukkan nilai C : 23\n",
            "A nilai yang terendah\n"
          ]
        }
      ]
    },
    {
      "cell_type": "code",
      "source": [
        "a = int(input(\"Masukkan nilai A : \"))\n",
        "b = int(input(\"Masukkan nilai B : \"))\n",
        "c = int(input(\"Masukkan nilai C : \"))\n",
        "\n",
        "if a > b and a > c:\n",
        "  print(\"A nilai yang tertinggi\")\n",
        "elif b > c and b > a:\n",
        "  print(\"B nilai yang tertinggi\")\n",
        "else:\n",
        "  print(\"C nilai yang tertinggi\")\n"
      ],
      "metadata": {
        "colab": {
          "base_uri": "https://localhost:8080/"
        },
        "id": "EoErOqKSFQJ1",
        "outputId": "97e80a9f-d97f-43dc-bac3-f4c261940b7d"
      },
      "execution_count": null,
      "outputs": [
        {
          "output_type": "stream",
          "name": "stdout",
          "text": [
            "Masukkan nilai A : 5\n",
            "Masukkan nilai B : 65\n",
            "Masukkan nilai C : 34\n",
            "B nilai yang tertinggi\n"
          ]
        }
      ]
    },
    {
      "cell_type": "markdown",
      "source": [
        "Kelemahan program tersebut adalah jika ada ada angka yang sama. Misal a = b = c. Ini yang disebut BUG dan ditemukan saat melakukan testing program.\n",
        "\n",
        "Silakan coba dipikirkan modifikasi program tersebut!!!\n"
      ],
      "metadata": {
        "id": "wXLmQdvxGq-a"
      }
    },
    {
      "cell_type": "markdown",
      "source": [
        "### Mencari angka tengah diantara 3 angka\n"
      ],
      "metadata": {
        "id": "-TnF3qTSMRRB"
      }
    },
    {
      "cell_type": "code",
      "source": [
        "a, b, c = (\n",
        "    int(input(\"Masukkan nilai A : \")),\n",
        "    int(input(\"Masukkan nilai B : \")),\n",
        "    int(input(\"Masukkan nilai C : \"))\n",
        ")\n",
        "\n",
        "if (a > b and a < c) or (a < b and a > c):\n",
        "  print('A adalah nilai tengah')\n",
        "elif (b > c and b < a) or (b < c and b > a):\n",
        "  print('B adalah nilai tengah')\n",
        "else:\n",
        "  print('C adalah nilai tengah')\n"
      ],
      "metadata": {
        "colab": {
          "base_uri": "https://localhost:8080/"
        },
        "id": "j_x_VRZ1M0jo",
        "outputId": "29453306-e72a-4414-91dd-cd947cdf9be6"
      },
      "execution_count": null,
      "outputs": [
        {
          "output_type": "stream",
          "name": "stdout",
          "text": [
            "Masukkan nilai A : 56\n",
            "Masukkan nilai B : 23\n",
            "Masukkan nilai C : 79\n",
            "A adalah nilai tengah\n"
          ]
        }
      ]
    },
    {
      "cell_type": "markdown",
      "source": [
        "Python dapat meringkas 2 pernyataan, a > b and a < c menjadi c > a > b. Sehingga program diatas menjadi:\n"
      ],
      "metadata": {
        "id": "gSGJOBXrOBTQ"
      }
    },
    {
      "cell_type": "code",
      "source": [
        "a, b, c = (\n",
        "    int(input(\"Masukkan nilai A : \")),\n",
        "    int(input(\"Masukkan nilai B : \")),\n",
        "    int(input(\"Masukkan nilai C : \"))\n",
        ")\n",
        "\n",
        "if (c > a > b) or (c < a < b):\n",
        "  print('A adalah nilai tengah')\n",
        "elif (a > b > c) or (a < b < c):\n",
        "  print('B adalah nilai tengah')\n",
        "else:\n",
        "  print('C adalah nilai tengah')\n"
      ],
      "metadata": {
        "colab": {
          "base_uri": "https://localhost:8080/"
        },
        "id": "qtDC2w-zO93V",
        "outputId": "29aa551b-5201-44db-d94c-fb06cb0385df"
      },
      "execution_count": null,
      "outputs": [
        {
          "output_type": "stream",
          "name": "stdout",
          "text": [
            "Masukkan nilai A : 23\n",
            "Masukkan nilai B : 56\n",
            "Masukkan nilai C : 12\n",
            "A adalah nilai tengah\n"
          ]
        }
      ]
    },
    {
      "cell_type": "markdown",
      "source": [
        "### Menggunakan metode sort\n"
      ],
      "metadata": {
        "id": "XzHIA1XtR3cd"
      }
    },
    {
      "cell_type": "code",
      "source": [
        "# Ada cara lain yang lebih ringkas, dengan menggunaan metode bawaan dari python -- metode sort\n",
        "\n",
        "a, b, c = (\n",
        "    int(input(\"Masukkan nilai A : \")),\n",
        "    int(input(\"Masukkan nilai B : \")),\n",
        "    int(input(\"Masukkan nilai C : \"))\n",
        ")\n",
        "\n",
        "deret_tuple = a, b, c\n",
        "deret_list = list(deret_tuple)\n",
        "\n",
        "# mengurutkan deret\n",
        "deret_list.sort()\n",
        "print('Urutan angka ', deret_list)\n",
        "\n",
        "# angka terbesar adalah angka terakhir (indeks-2)\n",
        "print('Angka tertinggi adalah', (deret_list[2]))\n"
      ],
      "metadata": {
        "colab": {
          "base_uri": "https://localhost:8080/"
        },
        "id": "EabbLs-5Q23A",
        "outputId": "c3686d3f-660c-429c-e7f9-f3762d70b257"
      },
      "execution_count": null,
      "outputs": [
        {
          "output_type": "stream",
          "name": "stdout",
          "text": [
            "Masukkan nilai A : 56\n",
            "Masukkan nilai B : 34\n",
            "Masukkan nilai C : 9\n",
            "Urutan angka  [9, 34, 56]\n",
            "Angka tertinggi adalah 56\n"
          ]
        }
      ]
    },
    {
      "cell_type": "markdown",
      "source": [
        "Perhatikan:\n",
        "Program yang panjang (mencari nilai terkecil, terbesar, nilai tengah) yang sudah kita buat sebelumnya, semua terakomodir dengan fungsi **sort** bawaan python :)\n"
      ],
      "metadata": {
        "id": "AJtf3BKmRHB2"
      }
    },
    {
      "cell_type": "markdown",
      "source": [
        "Enaknya.. Python menyediakan banyak sekali fungsi, metode, *library* yang akan mempermudah kita dalam membuat program.\n"
      ],
      "metadata": {
        "id": "h9qEZpxxRCRY"
      }
    },
    {
      "cell_type": "markdown",
      "source": [
        "## Contoh TAHUN KABISAT\n",
        "\n",
        "1. Jika suatu tahun dapat dibagi dengan 4, maka tahun kabisat\n",
        "2. Jika suatu tahun dapat dibagi 100 dan tidak bisa dibagi dengan 400, maka bukan tahun kabisat\n",
        "3. Jika suatu tahun tidak dapat dibagi dengan 400, juga tidak dapat dibagi dengan 100, akan tetapi dapat dibagi dengan 4, maka tahun kabisat\n",
        "4. Selain itu (yang tidak dapat dibagi dengan 400 dan 100 dan 4) maka bukan tahun kabisat\n"
      ],
      "metadata": {
        "id": "X5UEc1p_Ttl9"
      }
    },
    {
      "cell_type": "code",
      "source": [
        "# Operator modulus (modulo) yang disimbolkan dengan %\n",
        "# Merupakan operator yang akan mengetahui jika suatu bilangan dibagi bilangan lain akan bersisa atau tidak\n",
        "\n",
        "print(10 % 2)   # akan bersisa 0\n",
        "print(100 % 7)   # akan bersisa 1\n"
      ],
      "metadata": {
        "colab": {
          "base_uri": "https://localhost:8080/"
        },
        "id": "r9zeCE9oV98k",
        "outputId": "2176d951-8475-4b1e-df1b-4b6c8ce1543e"
      },
      "execution_count": null,
      "outputs": [
        {
          "output_type": "stream",
          "name": "stdout",
          "text": [
            "0\n",
            "2\n"
          ]
        }
      ]
    },
    {
      "cell_type": "code",
      "source": [
        "tahun = int(input(\"Masukkan angka tahun : \"))\n",
        "\n",
        "habis_dibagi_400 = tahun % 400 == 0\n",
        "habis_dibagi_100 = tahun % 100 == 0\n",
        "habis_dibagi_4   = tahun % 4   == 0\n",
        "\n",
        "if habis_dibagi_400:\n",
        "  print(f'{tahun} adalah tahun kabisat')\n",
        "elif habis_dibagi_4 and not habis_dibagi_100:\n",
        "  print(f'{tahun} adalah tahun kabisat')\n",
        "else:\n",
        "  print(f'{tahun} adalah bukan tahun kabisat')\n"
      ],
      "metadata": {
        "colab": {
          "base_uri": "https://localhost:8080/"
        },
        "id": "MJ1x_fzuW77M",
        "outputId": "e89caee6-900e-42f5-e2af-e8ebd8c7139f"
      },
      "execution_count": null,
      "outputs": [
        {
          "output_type": "stream",
          "name": "stdout",
          "text": [
            "Masukkan angka tahun : 2022\n",
            "2022 adalah bukan tahun kabisat\n"
          ]
        }
      ]
    },
    {
      "cell_type": "code",
      "source": [
        "# Kode diatas dapat disederhanakan menjadi\n",
        "\n",
        "tahun = int(input(\"Masukkan angka tahun : \"))\n",
        "\n",
        "habis_dibagi_400 = tahun % 400 == 0\n",
        "habis_dibagi_100 = tahun % 100 == 0\n",
        "habis_dibagi_4   = tahun % 4   == 0\n",
        "\n",
        "if habis_dibagi_400 or (habis_dibagi_4 and not habis_dibagi_100):\n",
        "  print(f'{tahun} adalah tahun kabisat')\n",
        "else:\n",
        "  print(f'{tahun} adalah bukan tahun kabisat')\n"
      ],
      "metadata": {
        "colab": {
          "base_uri": "https://localhost:8080/"
        },
        "id": "nLhnGNbHZipP",
        "outputId": "8e349adb-3cde-42df-b4a4-56a1cbb89d90"
      },
      "execution_count": null,
      "outputs": [
        {
          "output_type": "stream",
          "name": "stdout",
          "text": [
            "Masukkan angka tahun : 2022\n",
            "2022 adalah bukan tahun kabisat\n"
          ]
        }
      ]
    },
    {
      "cell_type": "markdown",
      "source": [
        "Terkadang kita ingin menggunakan suatu kode secara berulang-ulang. Dari pada kita membuat kode yang sama berulang-ulang, kita dapat membungkus suatu kode menjadi sebuah fungsi, sehingga kita hanya memanggil fungsi tersebut saja.\n"
      ],
      "metadata": {
        "id": "7Rebsbbla4tV"
      }
    },
    {
      "cell_type": "code",
      "source": [
        "# Membuat fungsi tahun kabisat\n",
        "# Kode fungsi ini tidak berjalan sampai ada yang memanggil\n",
        "# Jalan terlebih dahulu fungsi ini agar tersimpan di memory sistem\n",
        "\n",
        "def apakah_kabisat(tahun):\n",
        "  habis_dibagi_400 = tahun % 400 == 0\n",
        "  habis_dibagi_100 = tahun % 100 == 0\n",
        "  habis_dibagi_4   = tahun % 4   == 0\n",
        "\n",
        "  if habis_dibagi_400 or (habis_dibagi_4 and not habis_dibagi_100):\n",
        "    print(f'{tahun} adalah tahun kabisat')\n",
        "  else:\n",
        "    print(f'{tahun} adalah bukan tahun kabisat')\n"
      ],
      "metadata": {
        "id": "FgPpsnfnbWOp"
      },
      "execution_count": null,
      "outputs": []
    },
    {
      "cell_type": "code",
      "source": [
        "tahun = int(input(\"Masukkan angka tahun : \"))\n",
        "\n",
        "apakah_kabisat(tahun)\n"
      ],
      "metadata": {
        "colab": {
          "base_uri": "https://localhost:8080/"
        },
        "id": "EIIpqGq7cE02",
        "outputId": "350e5a7a-8137-4206-983a-4cf026d53bfa"
      },
      "execution_count": null,
      "outputs": [
        {
          "output_type": "stream",
          "name": "stdout",
          "text": [
            "Masukkan angka tahun : 2050\n",
            "2050 adalah bukan tahun kabisat\n"
          ]
        }
      ]
    },
    {
      "cell_type": "markdown",
      "source": [
        "## Pernyataan pass\n",
        "\n",
        "Pernyataan **if** tidak boleh kosong, tetapi jika karena alasan tertentu memiliki pernyataan **if tanpa konten**, masukkan pernyataan **pass** untuk menghindari kesalahan (munculnya error).\n"
      ],
      "metadata": {
        "id": "UdbAySmjbDHA"
      }
    },
    {
      "cell_type": "code",
      "source": [
        "a = 33\n",
        "b = 200\n",
        "\n",
        "if b > a:\n",
        "  pass\n"
      ],
      "metadata": {
        "id": "Sh3uQxptbc6Q"
      },
      "execution_count": null,
      "outputs": []
    },
    {
      "cell_type": "code",
      "source": [
        "a = 33\n",
        "b = 200\n",
        "\n",
        "if b > a:"
      ],
      "metadata": {
        "colab": {
          "base_uri": "https://localhost:8080/",
          "height": 131
        },
        "id": "yO9NUAq0bgbo",
        "outputId": "f1283bb1-c8d1-48f0-f3e0-ccaeeb471723"
      },
      "execution_count": null,
      "outputs": [
        {
          "output_type": "error",
          "ename": "SyntaxError",
          "evalue": "ignored",
          "traceback": [
            "\u001b[0;36m  File \u001b[0;32m\"<ipython-input-35-a0a326668223>\"\u001b[0;36m, line \u001b[0;32m4\u001b[0m\n\u001b[0;31m    if b > a:\u001b[0m\n\u001b[0m             ^\u001b[0m\n\u001b[0;31mSyntaxError\u001b[0m\u001b[0;31m:\u001b[0m unexpected EOF while parsing\n"
          ]
        }
      ]
    },
    {
      "cell_type": "markdown",
      "source": [
        "## Operator Boolean\n"
      ],
      "metadata": {
        "id": "qaXlkpYM5vGs"
      }
    },
    {
      "cell_type": "code",
      "source": [
        "buah_yang_tersedia = ['jeruk', 'mangga', 'melon']\n",
        "buah_yang_dicari = input('Masukkan nama buah dalam huruf kecil: ')\n",
        "\n",
        "if (buah_yang_dicari in buah_yang_tersedia):\n",
        "  print('Buah yang anda cari tersedia!')\n",
        "else:\n",
        "  print('Buah yang anda cari tidak tersedia!')\n",
        "  "
      ],
      "metadata": {
        "colab": {
          "base_uri": "https://localhost:8080/"
        },
        "id": "-hVeo6OU54Ik",
        "outputId": "06645548-c900-402e-8787-2aaed73cb681"
      },
      "execution_count": null,
      "outputs": [
        {
          "output_type": "stream",
          "name": "stdout",
          "text": [
            "Masukkan nama buah dalam huruf kecil: aple\n",
            "Buah yang anda cari tidak tersedia!\n"
          ]
        }
      ]
    },
    {
      "cell_type": "markdown",
      "source": [
        "# PERULANGAN FOR\n"
      ],
      "metadata": {
        "id": "eGyPS7robrkv"
      }
    },
    {
      "cell_type": "markdown",
      "source": [
        "## Perulangan for dengan list\n"
      ],
      "metadata": {
        "id": "L_ISbeEfbwOf"
      }
    },
    {
      "cell_type": "code",
      "source": [
        "list_kota = [\n",
        "    \"Jakarta\", \"Bandung\", \"Semarang\", \"Surabaya\", \"Medan\", \"Palembang\", \"Lampung\", \"Denpasar\"\n",
        "]\n",
        "\n",
        "for kota in list_kota:\n",
        "  print(kota)\n"
      ],
      "metadata": {
        "colab": {
          "base_uri": "https://localhost:8080/"
        },
        "id": "lCaY4_8Bb5Fg",
        "outputId": "47f43613-65d2-4c81-feba-9db0365576de"
      },
      "execution_count": null,
      "outputs": [
        {
          "output_type": "stream",
          "name": "stdout",
          "text": [
            "Jakarta\n",
            "Bandung\n",
            "Semarang\n",
            "Surabaya\n",
            "Medan\n",
            "Palembang\n",
            "Lampung\n",
            "Denpasar\n"
          ]
        }
      ]
    },
    {
      "cell_type": "markdown",
      "source": [
        "### Mengetahui urutan iterasi for dengan list\n",
        "\n",
        "Untuk mengetahui urutan iterasi for dengan list, kita bisa menggunakan fungsi **enumerate**.\n",
        "\n",
        "Fungsi ini akan mengekstrak 2 buah nilai:\n",
        "1. index, yaitu urutan iterasi yang ke berapa\n",
        "2. item, yang mana merupakan nilai dari list itu sendiri"
      ],
      "metadata": {
        "id": "9oJuOjWyckYc"
      }
    },
    {
      "cell_type": "code",
      "source": [
        "list_kota = [\n",
        "    \"Jakarta\", \"Bandung\", \"Semarang\", \"Surabaya\", \"Medan\", \"Palembang\", \"Lampung\", \"Denpasar\"\n",
        "]\n",
        "\n",
        "for i, kota in enumerate(list_kota):\n",
        "  print(i, kota)\n"
      ],
      "metadata": {
        "colab": {
          "base_uri": "https://localhost:8080/"
        },
        "id": "ERI_iMWXdVmw",
        "outputId": "409d0bc9-1f23-46c0-c2e0-5157152f13e6"
      },
      "execution_count": null,
      "outputs": [
        {
          "output_type": "stream",
          "name": "stdout",
          "text": [
            "0 Jakarta\n",
            "1 Bandung\n",
            "2 Semarang\n",
            "3 Surabaya\n",
            "4 Medan\n",
            "5 Palembang\n",
            "6 Lampung\n",
            "7 Denpasar\n"
          ]
        }
      ]
    },
    {
      "cell_type": "markdown",
      "source": [
        "Perhatikan bahwa urutan indeks dimulai dari 0 bukan 1.\n"
      ],
      "metadata": {
        "id": "x5fLeTmydthh"
      }
    },
    {
      "cell_type": "markdown",
      "source": [
        "### For dengan fungsi range()\n",
        "\n",
        "Dengan fungsi range, kita dapat melakukan perulangan dari 0 sampai sebelum n (n tidak termasuk) dari nilai n yang kita definisikan."
      ],
      "metadata": {
        "id": "70V7I8sPd6Xs"
      }
    },
    {
      "cell_type": "code",
      "source": [
        "# Membuat separuh piramid 5 tingkat\n",
        "\n",
        "for i in range(5):\n",
        "  print((i+1) * \"+\")\n",
        "  "
      ],
      "metadata": {
        "colab": {
          "base_uri": "https://localhost:8080/"
        },
        "id": "NEf5mS-vY_9O",
        "outputId": "53a6fae0-61b1-4a23-89dc-5d557bcf4ad3"
      },
      "execution_count": null,
      "outputs": [
        {
          "output_type": "stream",
          "name": "stdout",
          "text": [
            "+\n",
            "++\n",
            "+++\n",
            "++++\n",
            "+++++\n"
          ]
        }
      ]
    },
    {
      "cell_type": "code",
      "source": [
        "x = \"ok\"\n",
        "\n",
        "print(x * 3)\n"
      ],
      "metadata": {
        "colab": {
          "base_uri": "https://localhost:8080/"
        },
        "id": "r2jqtaLVVIWj",
        "outputId": "dc0259cc-8546-4c7a-ffba-d88bf9658f53"
      },
      "execution_count": null,
      "outputs": [
        {
          "output_type": "stream",
          "name": "stdout",
          "text": [
            "okokok\n"
          ]
        }
      ]
    },
    {
      "cell_type": "code",
      "source": [
        "# Membuat separuh piramid 5 tingkat (Legend)\n",
        "\n",
        "print(\"*\" * 1)\n",
        "print(\"*\" * 2)\n",
        "print(\"*\" * 3)\n",
        "print(\"*\" * 4)\n",
        "print(\"*\" * 5)\n"
      ],
      "metadata": {
        "colab": {
          "base_uri": "https://localhost:8080/"
        },
        "id": "7r9XRtj9BcdH",
        "outputId": "e7074970-e9a0-4dcb-eb4b-9c7e5f6c8031"
      },
      "execution_count": null,
      "outputs": [
        {
          "output_type": "stream",
          "name": "stdout",
          "text": [
            "*\n",
            "**\n",
            "***\n",
            "****\n",
            "*****\n"
          ]
        }
      ]
    },
    {
      "cell_type": "code",
      "source": [
        "# menulis 0 sampai 4\n",
        "\n",
        "for i in range(5):\n",
        "  print(\"Perulangan ke - \", i+1)\n"
      ],
      "metadata": {
        "colab": {
          "base_uri": "https://localhost:8080/"
        },
        "id": "kiqoPnBDd_Ss",
        "outputId": "04a28a8f-ecc1-43f4-d535-b699f4b402a6"
      },
      "execution_count": null,
      "outputs": [
        {
          "output_type": "stream",
          "name": "stdout",
          "text": [
            "Perulangan ke -  1\n",
            "Perulangan ke -  2\n",
            "Perulangan ke -  3\n",
            "Perulangan ke -  4\n",
            "Perulangan ke -  5\n"
          ]
        }
      ]
    },
    {
      "cell_type": "markdown",
      "source": [
        "Kita juga dapat memulai range dari selain 0\n"
      ],
      "metadata": {
        "id": "xc5QMGRveo-Y"
      }
    },
    {
      "cell_type": "code",
      "source": [
        "# range nilai 10 sampai 15\n",
        "\n",
        "for i in range(10, 16, 1):\n",
        "  print(\"i = \", i)\n"
      ],
      "metadata": {
        "colab": {
          "base_uri": "https://localhost:8080/"
        },
        "id": "RfEdQKASeusb",
        "outputId": "0564dd59-8233-41b5-9802-dfaf13eacde8"
      },
      "execution_count": null,
      "outputs": [
        {
          "output_type": "stream",
          "name": "stdout",
          "text": [
            "i =  10\n",
            "i =  11\n",
            "i =  12\n",
            "i =  13\n",
            "i =  14\n",
            "i =  15\n"
          ]
        }
      ]
    },
    {
      "cell_type": "markdown",
      "source": [
        "Kita juga bisa mendefinisikan kelipatannya.\n"
      ],
      "metadata": {
        "id": "OvpclayafAUs"
      }
    },
    {
      "cell_type": "code",
      "source": [
        "# range nilai 2 sampai 10\n",
        "\n",
        "for i in range(2, 12, 2):\n",
        "  print(\"i = \", i)\n"
      ],
      "metadata": {
        "colab": {
          "base_uri": "https://localhost:8080/"
        },
        "id": "4F1xQVVxfRxL",
        "outputId": "f36c056d-25ca-478d-e3e2-3e28ecc617c1"
      },
      "execution_count": null,
      "outputs": [
        {
          "output_type": "stream",
          "name": "stdout",
          "text": [
            "i =  2\n",
            "i =  4\n",
            "i =  6\n",
            "i =  8\n",
            "i =  10\n"
          ]
        }
      ]
    },
    {
      "cell_type": "code",
      "source": [
        "# bagaimana jika jika ditulis 11 bukan 12 nilai max nya\n",
        "\n",
        "for i in range(2, 11, 2):\n",
        "  print(\"i = \", i)\n"
      ],
      "metadata": {
        "colab": {
          "base_uri": "https://localhost:8080/"
        },
        "id": "8qQ8EF9uf6Du",
        "outputId": "e8d4ace8-3cca-4b25-8d3e-6b089a1fb66b"
      },
      "execution_count": null,
      "outputs": [
        {
          "output_type": "stream",
          "name": "stdout",
          "text": [
            "i =  2\n",
            "i =  4\n",
            "i =  6\n",
            "i =  8\n",
            "i =  10\n"
          ]
        }
      ]
    },
    {
      "cell_type": "code",
      "source": [
        "# range nilai ganjil dari 1 sampai 11\n",
        "\n",
        "for i in range(1, 11, 2):\n",
        "  print(\"i = \", i)\n"
      ],
      "metadata": {
        "colab": {
          "base_uri": "https://localhost:8080/"
        },
        "id": "1c1RBUMNfrdd",
        "outputId": "b349bab5-b98f-4ea2-9cc6-7eb42396977e"
      },
      "execution_count": null,
      "outputs": [
        {
          "output_type": "stream",
          "name": "stdout",
          "text": [
            "i =  1\n",
            "i =  3\n",
            "i =  5\n",
            "i =  7\n",
            "i =  9\n"
          ]
        }
      ]
    },
    {
      "cell_type": "markdown",
      "source": [
        "**Membuat Diamond**\n"
      ],
      "metadata": {
        "id": "rOx8v2_UgKqe"
      }
    },
    {
      "cell_type": "code",
      "source": [
        "row = int(input('Masukkan jumlah baris: '))\n",
        "\n",
        "# bagian atas dari hollow (kosong) diamond\n",
        "for i in range(1, row+1):\n",
        "  for j in range(1, row-i+1):\n",
        "    print(\" \", end=\"\")\n",
        "  for j in range(1, 2*i):\n",
        "    if j==1 or j==2*i-1:\n",
        "      print(\"*\", end=\"\")\n",
        "    else:\n",
        "      print(\" \", end=\"\")\n",
        "  print()\n",
        "\n",
        "# bagian bawah dari hollow (kosong) diamond\n",
        "for i in range(row-1, 0, -1):\n",
        "  for j in range(1, row-i+1):\n",
        "    print(\" \", end=\"\")\n",
        "  for j in range(1, 2*i):\n",
        "    if j==1 or j==2*i-1:\n",
        "      print(\"*\", end=\"\")\n",
        "    else:\n",
        "      print(\" \", end=\"\")\n",
        "  print()\n",
        "  "
      ],
      "metadata": {
        "colab": {
          "base_uri": "https://localhost:8080/"
        },
        "id": "VxRKhLP7gTsU",
        "outputId": "8a05ca73-c7a0-47f2-d05b-6dd348372ca3"
      },
      "execution_count": 2,
      "outputs": [
        {
          "output_type": "stream",
          "name": "stdout",
          "text": [
            "Masukkan jumlah baris: 8\n",
            "       *\n",
            "      * *\n",
            "     *   *\n",
            "    *     *\n",
            "   *       *\n",
            "  *         *\n",
            " *           *\n",
            "*             *\n",
            " *           *\n",
            "  *         *\n",
            "   *       *\n",
            "    *     *\n",
            "     *   *\n",
            "      * *\n",
            "       *\n"
          ]
        }
      ]
    },
    {
      "cell_type": "markdown",
      "source": [
        "## Perulangan for dengan tuple"
      ],
      "metadata": {
        "id": "r_nEIcpWgbnI"
      }
    },
    {
      "cell_type": "code",
      "source": [
        "tuple_buah = (\"mangga\", \"rambutan\", \"durian\", \"jambu\", \"belimbing\", \"nangka\")\n",
        "\n",
        "for buah in tuple_buah:\n",
        "  print(buah)\n"
      ],
      "metadata": {
        "colab": {
          "base_uri": "https://localhost:8080/"
        },
        "id": "vC4k5N8rgqY4",
        "outputId": "19a7b75c-9651-417e-8a81-4b15e8f965f0"
      },
      "execution_count": null,
      "outputs": [
        {
          "output_type": "stream",
          "name": "stdout",
          "text": [
            "mangga\n",
            "rambutan\n",
            "durian\n",
            "jambu\n",
            "belimbing\n",
            "nangka\n"
          ]
        }
      ]
    },
    {
      "cell_type": "markdown",
      "source": [
        "## Perulangan for dengan string\n"
      ],
      "metadata": {
        "id": "SDI13nRlhIlb"
      }
    },
    {
      "cell_type": "code",
      "source": [
        "for karakter in \"kampus merdeka\":\n",
        "  print(karakter)\n"
      ],
      "metadata": {
        "colab": {
          "base_uri": "https://localhost:8080/"
        },
        "id": "EEYI_pKphOoL",
        "outputId": "c35ae5f0-7f2e-4757-e511-ea878f614352"
      },
      "execution_count": null,
      "outputs": [
        {
          "output_type": "stream",
          "name": "stdout",
          "text": [
            "k\n",
            "a\n",
            "m\n",
            "p\n",
            "u\n",
            "s\n",
            " \n",
            "m\n",
            "e\n",
            "r\n",
            "d\n",
            "e\n",
            "k\n",
            "a\n"
          ]
        }
      ]
    },
    {
      "cell_type": "markdown",
      "source": [
        "## Perulangan for..else\n",
        "\n",
        "Perulangan for jika ditambahkan blok else, maka perulangan akan dieksekusi sampai selesai (tidak ada iterasi lagi), kemudian dilanjutkan dengan eksekusi blok else.\n"
      ],
      "metadata": {
        "id": "EGSI--89m7WB"
      }
    },
    {
      "cell_type": "code",
      "source": [
        "list_kota = [\n",
        "    \"Jakarta\", \"Bandung\", \"Semarang\", \"Surabaya\", \"Medan\", \"Palembang\", \"Lampung\", \"Denpasar\"\n",
        "]\n",
        "\n",
        "for kota in list_kota:\n",
        "  print(kota)\n",
        "else:\n",
        "  print()\n",
        "  print(\"Tidak ada lagi item pada list yang tersisa\")\n"
      ],
      "metadata": {
        "colab": {
          "base_uri": "https://localhost:8080/"
        },
        "id": "hmLBP5hlnrHo",
        "outputId": "3dfb3a45-6bfa-4565-9fcc-3352b5076967"
      },
      "execution_count": null,
      "outputs": [
        {
          "output_type": "stream",
          "name": "stdout",
          "text": [
            "Jakarta\n",
            "Bandung\n",
            "Semarang\n",
            "Surabaya\n",
            "Medan\n",
            "Palembang\n",
            "Lampung\n",
            "Denpasar\n",
            "\n",
            "Tidak ada lagi item pada list yang tersisa\n"
          ]
        }
      ]
    },
    {
      "cell_type": "markdown",
      "source": [
        "## Perulangan for bersarang\n",
        "\n",
        "Loop bersarang adalah loop di dalam loop.\n",
        "\n",
        "\"Loop dalam\" akan dieksekusi satu kali untuk setiap iterasi dari \"loop luar\".\n"
      ],
      "metadata": {
        "id": "MLNsh7G4sti1"
      }
    },
    {
      "cell_type": "code",
      "source": [
        "adj = [\"red\", \"big\", \"tasty\"]\n",
        "fruits = [\"apple\", \"banana\", \"cherry\"]\n",
        "\n",
        "for x in adj:\n",
        "  for y in fruits:\n",
        "    print(x, y)\n"
      ],
      "metadata": {
        "colab": {
          "base_uri": "https://localhost:8080/"
        },
        "id": "Vzu7ufo5tFnq",
        "outputId": "2ce16d7f-aa9a-43ec-83e0-f4db26627e78"
      },
      "execution_count": null,
      "outputs": [
        {
          "output_type": "stream",
          "name": "stdout",
          "text": [
            "red apple\n",
            "red banana\n",
            "red cherry\n",
            "big apple\n",
            "big banana\n",
            "big cherry\n",
            "tasty apple\n",
            "tasty banana\n",
            "tasty cherry\n"
          ]
        }
      ]
    },
    {
      "cell_type": "markdown",
      "source": [
        "## Pernyataan pass\n"
      ],
      "metadata": {
        "id": "U3ppTfsotSK7"
      }
    },
    {
      "cell_type": "code",
      "source": [
        "for x in [0, 1, 2]:\n",
        "  pass\n"
      ],
      "metadata": {
        "id": "mJ0yL84-vx9h"
      },
      "execution_count": null,
      "outputs": []
    },
    {
      "cell_type": "code",
      "source": [
        "for x in [0, 1, 2]:\n",
        "  "
      ],
      "metadata": {
        "colab": {
          "base_uri": "https://localhost:8080/",
          "height": 132
        },
        "id": "NKbdAdGlv5cR",
        "outputId": "bef389e9-c58e-4b49-ef47-fda0c588327f"
      },
      "execution_count": null,
      "outputs": [
        {
          "output_type": "error",
          "ename": "SyntaxError",
          "evalue": "ignored",
          "traceback": [
            "\u001b[0;36m  File \u001b[0;32m\"<ipython-input-18-2bc7f2fefb10>\"\u001b[0;36m, line \u001b[0;32m2\u001b[0m\n\u001b[0;31m    \u001b[0m\n\u001b[0m    ^\u001b[0m\n\u001b[0;31mSyntaxError\u001b[0m\u001b[0;31m:\u001b[0m unexpected EOF while parsing\n"
          ]
        }
      ]
    },
    {
      "cell_type": "markdown",
      "source": [
        "# PERULANGAN WHILE\n"
      ],
      "metadata": {
        "id": "uWNdztkiwGmO"
      }
    },
    {
      "cell_type": "code",
      "source": [
        "while (1 + 2 == 3):\n",
        "  print(\"Halo semua\")\n"
      ],
      "metadata": {
        "id": "xYFVCJz07OzQ"
      },
      "execution_count": null,
      "outputs": []
    },
    {
      "cell_type": "markdown",
      "source": [
        "Looping tersebut akan terus berulang tanpa henti. Untuk menghentikannya, tekan tombol stop atau Ctrl + C.\n",
        "\n",
        "Looping tersebut akan terus berulang selama 1 + 2 = 3 itu emang true.\n",
        "\n",
        "Oleh karena itu kita harus membuat suatu kondisi yang dinamis.\n"
      ],
      "metadata": {
        "id": "SZnqOwtg7yQ8"
      }
    },
    {
      "cell_type": "code",
      "source": [
        "i = 1\n",
        "\n",
        "while i <= 5:\n",
        "  print(i)\n",
        "  i = i + 1\n"
      ],
      "metadata": {
        "colab": {
          "base_uri": "https://localhost:8080/"
        },
        "id": "lRE9GVg88iA1",
        "outputId": "d62c2b3d-96ab-4bc4-dc2a-c3b916918904"
      },
      "execution_count": null,
      "outputs": [
        {
          "output_type": "stream",
          "name": "stdout",
          "text": [
            "1\n",
            "2\n",
            "3\n",
            "4\n",
            "5\n"
          ]
        }
      ]
    },
    {
      "cell_type": "code",
      "source": [
        "i = 1\n",
        "\n",
        "while i <= 5:\n",
        "  print(i)\n",
        "  i += 1      # bentuk lain dari i = i + 1\n"
      ],
      "metadata": {
        "colab": {
          "base_uri": "https://localhost:8080/"
        },
        "id": "k1dXwFmg9Mqy",
        "outputId": "67bad068-2c66-4a04-f4ea-8f842a01c074"
      },
      "execution_count": null,
      "outputs": [
        {
          "output_type": "stream",
          "name": "stdout",
          "text": [
            "1\n",
            "2\n",
            "3\n",
            "4\n",
            "5\n"
          ]
        }
      ]
    },
    {
      "cell_type": "markdown",
      "source": [
        "Pada kode diatas, kita menginstruksikan:\n",
        "- melakukan perulangan selama variable i kurang dari atau sama dengan 5\n",
        "- setiap kali iterasi, sistem akan menampilkan nilai dari i\n",
        "- yang terakhir, pada setiap iterasi, sistem akan menambahkan i dengan angka 1\n"
      ],
      "metadata": {
        "id": "JikHxpx-9dz-"
      }
    },
    {
      "cell_type": "markdown",
      "source": [
        "## Perulangan while dengan list\n"
      ],
      "metadata": {
        "id": "DAnugme198H3"
      }
    },
    {
      "cell_type": "code",
      "source": [
        "list_kota = [\n",
        "    \"Jakarta\", \"Bandung\", \"Semarang\", \"Surabaya\", \"Medan\", \"Palembang\", \"Lampung\", \"Denpasar\"\n",
        "]\n",
        "\n",
        "# bermain dengan indeks\n",
        "i = 0\n",
        "while i < len(list_kota):\n",
        "  print(list_kota[i])\n",
        "  i += 1\n"
      ],
      "metadata": {
        "colab": {
          "base_uri": "https://localhost:8080/"
        },
        "id": "7iZlgWLV-ID6",
        "outputId": "c2458225-17a7-454c-8448-00a60461c650"
      },
      "execution_count": null,
      "outputs": [
        {
          "output_type": "stream",
          "name": "stdout",
          "text": [
            "Jakarta\n",
            "Bandung\n",
            "Semarang\n",
            "Surabaya\n",
            "Medan\n",
            "Palembang\n",
            "Lampung\n",
            "Denpasar\n"
          ]
        }
      ]
    },
    {
      "cell_type": "code",
      "source": [
        "list_kota = [\n",
        "    \"Jakarta\", \"Bandung\", \"Semarang\", \"Surabaya\", \"Medan\", \"Palembang\", \"Lampung\", \"Denpasar\"\n",
        "]\n",
        "\n",
        "# bermain dengan pop\n",
        "while list_kota:\n",
        "  print(list_kota.pop(0))\n"
      ],
      "metadata": {
        "colab": {
          "base_uri": "https://localhost:8080/"
        },
        "id": "4ry7Dju9-zBe",
        "outputId": "c26e01ce-ffb1-43b4-c15a-4427df1a193d"
      },
      "execution_count": null,
      "outputs": [
        {
          "output_type": "stream",
          "name": "stdout",
          "text": [
            "Jakarta\n",
            "Bandung\n",
            "Semarang\n",
            "Surabaya\n",
            "Medan\n",
            "Palembang\n",
            "Lampung\n",
            "Denpasar\n"
          ]
        }
      ]
    },
    {
      "cell_type": "markdown",
      "source": [
        "## Perulangan while dengan inputan\n"
      ],
      "metadata": {
        "id": "ZtNEYeH7_Hfc"
      }
    },
    {
      "cell_type": "code",
      "source": [
        "'''\n",
        "User diminta untuk memasukkan angka ganjil yang lebih dari 50. Jika user memasukkan angka genap, atau angka kurang dari 50,\n",
        "maka sistem akan meminta user untuk menginputkan kembali angka.\n",
        "'''\n",
        "\n",
        "a = int(input('Masukkan bilangan ganjil lebih dari 50 : '))\n",
        "\n",
        "while a % 2 != 1 or a <= 50:\n",
        "  a = int(input('Salah, input bilangan yang lain lagi   : '))\n",
        "\n",
        "print()\n",
        "print('Ya, input Anda sudah benar')\n"
      ],
      "metadata": {
        "colab": {
          "base_uri": "https://localhost:8080/"
        },
        "id": "yDsF8kn5_PRy",
        "outputId": "941c6526-1b0e-4750-b533-0247472b171d"
      },
      "execution_count": null,
      "outputs": [
        {
          "output_type": "stream",
          "name": "stdout",
          "text": [
            "Masukkan bilangan ganjil lebih dari 50 : 43\n",
            "Salah, input bilangan yang lain lagi   : 31\n",
            "Salah, input bilangan yang lain lagi   : 78\n",
            "Salah, input bilangan yang lain lagi   : 99\n",
            "\n",
            "Ya, input Anda sudah benar\n"
          ]
        }
      ]
    },
    {
      "cell_type": "markdown",
      "source": [
        "# PERULANGAN & PERCABANGAN\n"
      ],
      "metadata": {
        "id": "fH0c195clfIY"
      }
    },
    {
      "cell_type": "markdown",
      "source": [
        "### Perulangan for dengan break dan continue\n",
        "\n",
        "Di python kita bisa menginterupsi dan men-skip suatu iterasi pada perulangan.\n",
        "\n",
        "Terdapat 2 perintah yang digunakan:\n",
        "1. break, untuk interupsi (memberhentikan paksa) sebuah perulangan.\n",
        "2. continue, untuk menskip ke iterasi berikutnya.\n"
      ],
      "metadata": {
        "id": "JuNkgZjghpmo"
      }
    },
    {
      "cell_type": "code",
      "source": [
        "for i in range(10, 20):\n",
        "  if i == 15:           # dibaca apakah i = 15 ?\n",
        "    continue            # skip ke iterasi selanjutnya\n",
        "  print(i)\n"
      ],
      "metadata": {
        "colab": {
          "base_uri": "https://localhost:8080/"
        },
        "id": "vIBTvO3Fl6wB",
        "outputId": "cacf27bb-5a7f-4649-be67-144135acf3f9"
      },
      "execution_count": null,
      "outputs": [
        {
          "output_type": "stream",
          "name": "stdout",
          "text": [
            "10\n",
            "11\n",
            "12\n",
            "13\n",
            "14\n",
            "16\n",
            "17\n",
            "18\n",
            "19\n"
          ]
        }
      ]
    },
    {
      "cell_type": "code",
      "source": [
        "for i in range(10, 20):\n",
        "  if i == 15:         # dibaca apakah i = 15 ?\n",
        "    break             # berhenti (stop) iterasi\n",
        "  print(i)\n"
      ],
      "metadata": {
        "colab": {
          "base_uri": "https://localhost:8080/"
        },
        "id": "X1dVrnJtiLg-",
        "outputId": "045870ac-1c2b-4d63-a344-839ef3769b0a"
      },
      "execution_count": null,
      "outputs": [
        {
          "output_type": "stream",
          "name": "stdout",
          "text": [
            "10\n",
            "11\n",
            "12\n",
            "13\n",
            "14\n"
          ]
        }
      ]
    },
    {
      "cell_type": "markdown",
      "source": [
        "## Perulangan for..else + break\n",
        "\n",
        "Jika kita gabungkan for..else dengan break, maka blok else hanya akan dieksekusi jika perintah break tidak dieksekusi.\n",
        "\n",
        "Contoh penggunaan for..else + break adalah untuk pencarian sebuah item pada list.\n"
      ],
      "metadata": {
        "id": "vlH0VCIOo5dN"
      }
    },
    {
      "cell_type": "code",
      "source": [
        "list_kota = [\n",
        "    \"Jakarta\", \"Bandung\", \"Semarang\", \"Surabaya\", \"Medan\", \"Palembang\", \"Lampung\", \"Denpasar\"\n",
        "]\n",
        "\n",
        "kota_yang_dicari = (input(\"Ketik nama kota yang kamu cari : \"))\n",
        "\n",
        "for i, kota in enumerate(list_kota):\n",
        "  # ubah katanya menjadi ke lowercase (huruf kecil) agar menjadi case insensitif\n",
        "  if kota.lower() == kota_yang_dicari.lower():\n",
        "    print(\"Kota yang kamu cari berada pada indeks \", i)\n",
        "    break\n",
        "else:\n",
        "  print(\"Maaf.. kota yang kamu cari tidak ada\")\n"
      ],
      "metadata": {
        "colab": {
          "base_uri": "https://localhost:8080/"
        },
        "id": "sis7Pt-Npn1h",
        "outputId": "b41df50b-bc94-4dff-b80b-27488d21b807"
      },
      "execution_count": null,
      "outputs": [
        {
          "output_type": "stream",
          "name": "stdout",
          "text": [
            "Ketik nama kota yang kamu cari : Medan\n",
            "Kota yang kamu cari berada pada indeks  4\n"
          ]
        }
      ]
    },
    {
      "cell_type": "markdown",
      "source": [
        "PENTING!\n",
        "\n",
        "Jika sebuah perulangan dihentikan paksa dengan perintah break, maka blok else tidak akan dieksekusi.\n"
      ],
      "metadata": {
        "id": "zvtH0tzQrkm8"
      }
    },
    {
      "cell_type": "markdown",
      "source": [
        "## Perulangan while dengan continue\n",
        "\n",
        "Perintah continue adalah Untuk men-skip iterasi.\n"
      ],
      "metadata": {
        "id": "5X8Ay7AECWag"
      }
    },
    {
      "cell_type": "code",
      "source": [
        "list_kota = [\n",
        "    \"Jakarta\", \"Bandung\", \"Semarang\", \"Surabaya\", \"Medan\", \"Palembang\", \"Lampung\", \"Denpasar\"\n",
        "]\n",
        "\n",
        "# skip jika i adalah genap dan i lebih besar dari 0\n",
        "i = -1\n",
        "while i < len(list_kota):\n",
        "  i += 1\n",
        "  if i % 2 == 0 and i > 0:\n",
        "    print('skip')\n",
        "    continue\n",
        "  \n",
        "  # tidak akan dieksekusi ketika perintah continue dipanggil (dijalankan)\n",
        "  print(list_kota[i])\n"
      ],
      "metadata": {
        "colab": {
          "base_uri": "https://localhost:8080/"
        },
        "id": "SC6dnCuJCiaE",
        "outputId": "6037d67c-192f-4778-ffee-0fce8d3ba17a"
      },
      "execution_count": null,
      "outputs": [
        {
          "output_type": "stream",
          "name": "stdout",
          "text": [
            "Jakarta\n",
            "Bandung\n",
            "skip\n",
            "Surabaya\n",
            "skip\n",
            "Palembang\n",
            "skip\n",
            "Denpasar\n",
            "skip\n"
          ]
        }
      ]
    },
    {
      "cell_type": "markdown",
      "source": [
        "Perhatikan!\n",
        "\n",
        "Kota yang berindeks genap dan lebih dari 0 akan ter-cetak 'skip'.\n"
      ],
      "metadata": {
        "id": "GbG7UaibDbFK"
      }
    },
    {
      "cell_type": "markdown",
      "source": [
        "## Perulangan while dengan break\n",
        "\n",
        "Ketika perintah break dipanggil, maka perulangan akan diberhentikan secara paksa.\n"
      ],
      "metadata": {
        "id": "dsgNME8sDr9M"
      }
    },
    {
      "cell_type": "code",
      "source": [
        "list_kota = [\n",
        "    \"Jakarta\", \"Bandung\", \"Semarang\", \"Surabaya\", \"Medan\", \"Palembang\", \"Lampung\", \"Denpasar\", \"Medan\"\n",
        "]\n",
        "\n",
        "kota_yang_dicari = input('Masukkan kota yang dicari : ')\n",
        "\n",
        "i = 0\n",
        "while i < len(list_kota):\n",
        "  if list_kota[i].lower() == kota_yang_dicari.lower():\n",
        "    print('Ketemu di indeks ', i)\n",
        "    break\n",
        "  \n",
        "  print('Bukan', list_kota[i])\n",
        "  i += 1\n"
      ],
      "metadata": {
        "colab": {
          "base_uri": "https://localhost:8080/"
        },
        "id": "f9C9_8nRENDP",
        "outputId": "d77a1f23-ba7a-46e4-96d0-15546471f66d"
      },
      "execution_count": null,
      "outputs": [
        {
          "output_type": "stream",
          "name": "stdout",
          "text": [
            "Masukkan kota yang dicari : Medan\n",
            "Bukan Jakarta\n",
            "Bukan Bandung\n",
            "Bukan Semarang\n",
            "Bukan Surabaya\n",
            "Ketemu di indeks  4\n"
          ]
        }
      ]
    },
    {
      "cell_type": "markdown",
      "source": [
        "## Perulangan while..else\n",
        "\n"
      ],
      "metadata": {
        "id": "xZepygidFgjg"
      }
    },
    {
      "cell_type": "code",
      "source": [
        "list_kota = [\n",
        "    \"Jakarta\", \"Bandung\", \"Semarang\", \"Surabaya\", \"Medan\", \"Palembang\", \"Lampung\", \"Denpasar\"\n",
        "]\n",
        "\n",
        "kota_yang_dicari = input('Masukkan kota yang dicari : ')\n",
        "\n",
        "i = 0\n",
        "while i < len(list_kota):\n",
        "  if list_kota[i].lower() == kota_yang_dicari.lower():\n",
        "    # print('Ketemu di indeks ', i)\n",
        "    print(list_kota[i], \"ada di indeks\", i)\n",
        "    break\n",
        "  \n",
        "  print('Bukan', list_kota[i])\n",
        "  i += 1\n",
        "else:\n",
        "  print()\n",
        "  print('Maaf, kota yang Anda cari tidak ditemukan')\n"
      ],
      "metadata": {
        "colab": {
          "base_uri": "https://localhost:8080/"
        },
        "id": "m8mwAIeKFqrF",
        "outputId": "3616cf06-f3e7-493e-e1bf-26b3ce0d71af"
      },
      "execution_count": null,
      "outputs": [
        {
          "output_type": "stream",
          "name": "stdout",
          "text": [
            "Masukkan kota yang dicari : Sorong\n",
            "Bukan Jakarta\n",
            "Bukan Bandung\n",
            "Bukan Semarang\n",
            "Bukan Surabaya\n",
            "Bukan Medan\n",
            "Bukan Palembang\n",
            "Bukan Lampung\n",
            "Bukan Denpasar\n",
            "\n",
            "Maaf, kota yang Anda cari tidak ditemukan\n"
          ]
        }
      ]
    },
    {
      "cell_type": "markdown",
      "source": [
        "# CONTOH-CONTOH PROGRAM\n"
      ],
      "metadata": {
        "id": "lpHKY-yYYVxp"
      }
    },
    {
      "cell_type": "markdown",
      "source": [
        "## Maximum Profit Finder\n",
        "\n",
        "Masalah pencari keuntungan maksimum, juga dikenal sebagai masalah menemukan waktu terbaik untuk membeli dan menjual saham. Di sini kita akan diberikan serangkaian harga penutupan saham pada hari yang berbeda, dan kita perlu menemukan solusi dengan memilih satu hari untuk membeli saham dan memilih hari lain untuk menjual saham itu di masa depan untuk memaksimalkan keuntungan kita.\n",
        "\n",
        "Misalnya, lihat input dan output dari masalah ini:\n",
        "\n",
        "Input: harga = [75, 16, 58, 32, 61, 49]\n",
        "\n",
        "Output = 45\n",
        "\n",
        "Pada contoh di atas, harga saham adalah 75 pada hari pertama. Kita membeli saham pada hari ke-2 dengan harga 16 dan menjualnya pada hari ke-5 dengan harga 61. Oleh karena itu keuntungan = 45 (61 - 16).\n",
        "\n",
        "Berikut cara mengatasi masalah pencari keuntungan maksimal menggunakan Python."
      ],
      "metadata": {
        "id": "mGGhdYHq2Xzt"
      }
    },
    {
      "cell_type": "code",
      "source": [
        "def maxProfit(prices):\n",
        "  buy = 0\n",
        "  sell = 1\n",
        "  max_profit = 0\n",
        "  while sell < len(prices):\n",
        "    if prices[sell] > prices[buy]:\n",
        "      profit = prices[sell] - prices[buy]\n",
        "      max_profit = max(profit, max_profit)\n",
        "    else:\n",
        "      buy = sell\n",
        "    sell = sell + 1\n",
        "  return max_profit\n",
        "\n",
        "prices = [75,16,58,32,61,49]\n",
        "print(maxProfit(prices))\n"
      ],
      "metadata": {
        "colab": {
          "base_uri": "https://localhost:8080/"
        },
        "id": "7JjMItco3n1l",
        "outputId": "42e2d9fb-0897-4765-8fe7-b2a82b36c0e3"
      },
      "execution_count": null,
      "outputs": [
        {
          "output_type": "stream",
          "name": "stdout",
          "text": [
            "45\n"
          ]
        }
      ]
    },
    {
      "cell_type": "markdown",
      "source": [
        "## Bilangan Ganjil Genap\n",
        "\n",
        "Skenario:\n",
        "1. Diberikan satu bilangan tertentu, lalu sistem akan menentukan apakah bilangan tersebut bilangan ganjil atau genap.\n",
        "2. Diberikan dua buah rentang nilai, lalu sistem akan menampilkan semua bilangan genap saja atau ganjil saja di antara rentang nilai tersebut.\n"
      ],
      "metadata": {
        "id": "aIFsRpl1pHTN"
      }
    },
    {
      "cell_type": "markdown",
      "source": [
        "Untuk memeriksa apakah suatu bilangan adalah bilangan ganjil atau bukan, kita bisa menggunakan operator modulus.\n",
        "\n",
        "Operator modulus didefinisikan dengan simbol %, dan berfungsi untuk mengembalikan hasil bagi dari dua buah operasi.\n",
        "\n",
        "Kita coba beberapa contoh berikut:\n",
        "\n",
        "print(10 / 2) # output: 5\n",
        "\n",
        "print(10 % 2) # output: 0\n",
        "\n",
        "print(5 / 2) # output 2.5\n",
        "\n",
        "print(5 % 2) # output 1\n",
        "\n",
        "print(10 / 2.5) # output 2.5\n",
        "\n",
        "print(10 % 4) # output 2\n",
        "\n",
        "Nah, untuk menentukan bilangan ganjil genap, kita akan memeriksa apakah suatu bilangan bisa dibagi dengan 2. Jika bisa, berarti dia bilangan genap, dan jika tidak berarti ia adalah bilangan ganjil.\n",
        "\n",
        "Bagaimana cara menentukan bisa atau tidak?\n",
        "\n",
        "Ya pakai modulus. Jika bilangan tersebut habis dibagi 2 alias tidak ada sisanya atau modulus = 0*, maka ia genap, jika sebaliknya maka ia ganjil.\n"
      ],
      "metadata": {
        "id": "A804d0XtqVo5"
      }
    },
    {
      "cell_type": "code",
      "source": [
        "x = int(input('Masukkan x: '))\n",
        "\n",
        "print('x adalah bilangan', 'genap' if (x % 2 == 0) else 'ganjil')\n"
      ],
      "metadata": {
        "colab": {
          "base_uri": "https://localhost:8080/"
        },
        "id": "Ue5pYrtMq4aN",
        "outputId": "9589af30-22e4-44e7-e14c-5fb0b37aebd1"
      },
      "execution_count": null,
      "outputs": [
        {
          "output_type": "stream",
          "name": "stdout",
          "text": [
            "Masukkan x: 7\n",
            "x adalah bilangan ganjil\n"
          ]
        }
      ]
    },
    {
      "cell_type": "markdown",
      "source": [
        "### Menampilkan bilangan genap/ganjil\n"
      ],
      "metadata": {
        "id": "OYjrL_zN7r0C"
      }
    },
    {
      "cell_type": "code",
      "source": [
        "print('Masukkan nilai awal dan nilai akhir')\n",
        "\n",
        "nilai_awal = int(input(' nilai awal: '))\n",
        "nilai_akhir = int(input(' nilai akhir: '))\n",
        "\n",
        "print(\"\"\"\\nTampilkan bilangan\n",
        " 1. Ganjil\n",
        " 2. Genap\"\"\")\n",
        "\n",
        "pilihan = int(input('Pilihan: '))\n"
      ],
      "metadata": {
        "colab": {
          "base_uri": "https://localhost:8080/"
        },
        "id": "Ka8jdAl78M5J",
        "outputId": "0c1204f8-bb19-446d-d0d4-0d58ebb9c27d"
      },
      "execution_count": null,
      "outputs": [
        {
          "name": "stdout",
          "output_type": "stream",
          "text": [
            "Masukkan nilai awal dan nilai akhir\n",
            " nilai awal: 16\n",
            " nilai akhir: 7\n",
            "\n",
            "Tampilkan bilangan\n",
            " 1. Ganjil\n",
            " 2. Genap\n",
            "Pilihan: 1\n"
          ]
        }
      ]
    },
    {
      "cell_type": "code",
      "source": [
        "print('Masukkan nilai awal dan nilai akhir')\n",
        "\n",
        "nilai_awal = int(input(' nilai awal  : '))\n",
        "nilai_akhir = int(input(' nilai akhir : '))\n",
        "\n",
        "print(\"\"\"\\nTampilkan bilangan\n",
        " 1. Ganjil\n",
        " 2. Genap\n",
        "\"\"\")\n",
        "\n",
        "pilihan = int(input('Pilihan: '))\n",
        "\n",
        "# periksa kalau pilihan bukan 1 dan 2\n",
        "if pilihan not in [1, 2]:\n",
        "  print('Pilihan salah!')\n",
        "  print('Pilih 1. untuk menampilkan bilangan ganjil')\n",
        "  print('Pilih 2. untuk menampilkan bilangan genap')\n",
        "else:\n",
        "  for x in range(nilai_awal, nilai_akhir + 1):\n",
        "    if pilihan == 1 and x % 2 == 1:\n",
        "      print(x, end=' ')\n",
        "    elif pilihan == 2 and x % 2 == 0:\n",
        "      print(x, end=' ')\n",
        "  else:\n",
        "    # ganti baris ketika perulangan selesai\n",
        "    print('')"
      ],
      "metadata": {
        "colab": {
          "base_uri": "https://localhost:8080/"
        },
        "id": "7OCIqS9c8pIt",
        "outputId": "ddf1e961-2354-4df1-da7c-327bf3dcce38"
      },
      "execution_count": null,
      "outputs": [
        {
          "output_type": "stream",
          "name": "stdout",
          "text": [
            "Masukkan nilai awal dan nilai akhir\n",
            " nilai awal  : 3\n",
            " nilai akhir : 9\n",
            "\n",
            "Tampilkan bilangan\n",
            " 1. Ganjil\n",
            " 2. Genap\n",
            "\n",
            "Pilihan: 5\n",
            "Pilihan salah\n",
            "Pilih 1. untuk menampilkan bilangan ganjil\n",
            "Pilih 2. untuk menampilkan bilangan genap\n"
          ]
        }
      ]
    },
    {
      "cell_type": "markdown",
      "source": [
        "## Bilangan Prima\n"
      ],
      "metadata": {
        "id": "JZIN-wHE_CSU"
      }
    },
    {
      "cell_type": "markdown",
      "source": [
        "### Definisi\n",
        "\n",
        "Bilangan prima adalah bilangan lebih dari 1 yang hanya memiliki 2 faktor (pembagi) saja: yaitu 1 dan dirinya sendiri. Artinya, sebuah bilangan prima tidak bisa dibagi dengan pembagi apa pun kecuali dengan angka 1 dan dirinya sendiri.\n",
        "\n",
        "Contoh bilangan prima adalah angka 2: ia tidak memiliki pembagi apa pun selain 1 dan 2.\n",
        "\n",
        "Contoh lain adalah bilangan 3. Bilangan 3 tidak bisa dibagi kecuali dengan angka 1 dan 3.\n",
        "\n",
        "Dan contoh yang bukan bilangan prima adalah 4: karena ia memiliki pembagi lain selain angka 1 dan dirinya sendiri, yaitu angka 2.\n",
        "\n",
        "Berikut ini deret bilangan prima dari angka 1 sampai 30:\n",
        "\n",
        "2, 3, 5, 7, 11, 13, 17, 19, 23, 29\n"
      ],
      "metadata": {
        "id": "kS05V0Nu-M9e"
      }
    },
    {
      "cell_type": "markdown",
      "source": [
        "Ada beberapa kegunaan bilangan prima. Di antaranya adalah untuk menentukan pohon faktor (prima) dari suatu bilangan. Nanti dari pohon faktor tersebut bisa dicari faktor persekutuan terbesar (FPB) dan kelipatan persekutuan terkecil (KPK).\n"
      ],
      "metadata": {
        "id": "7upLdIvU-sfi"
      }
    },
    {
      "cell_type": "markdown",
      "source": [
        "### Algoritma bilangan prima\n",
        "\n"
      ],
      "metadata": {
        "id": "wbq6VZTX_OOE"
      }
    },
    {
      "cell_type": "markdown",
      "source": [
        "![image.png](data:image/png;base64,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)"
      ],
      "metadata": {
        "id": "YtPFC3XH_uLh"
      }
    },
    {
      "cell_type": "markdown",
      "source": [
        "Untuk memeriksa apakah suatu bilangan adalah bilangan prima, kita akan memeriksa semua kemungkinan pembagi dari suatu bilangan. Kemungkinan faktor pembaginya adalah:\n",
        "\n",
        "* bilangan 2\n",
        "* sampai bilangan itu sendiri - 1\n"
      ],
      "metadata": {
        "id": "I8zDrNqS_4qs"
      }
    },
    {
      "cell_type": "markdown",
      "source": [
        "Misalkan kita akan memeriksa apakah bilangan 21 termasuk bilangan prima atau bukan, maka:\n",
        "\n",
        "1. Kita akan mulai memeriksanya dengan membagikannya dengan 2. Bisa atau tidak?\n",
        "2. Kalau tidak bisa, lanjut ke kemungkinan berikutnya, yaitu bilangan 3. Bisa atau tidak?\n",
        "3. Kalau bisa, berarti bukan bilangan prima. Kita stop.\n",
        "4. Tapi kalau tidak bisa, kita lakukan iterasi berikutnya hingga ke angka 20 (bilangan itu sendiri - 1).\n",
        "\n",
        "Tentu saja logika ini bukan logika terbaik. Ada banyak ruang dari algoritma ini yang bisa kita improve lagi lebih dalam.\n",
        "\n",
        "Tapi, untuk pemula saya kira algoritma ini cukup untuk menyelesaikan permasalahan bilangan prima dengan akurat.\n"
      ],
      "metadata": {
        "id": "wxdvvDfTAEld"
      }
    },
    {
      "cell_type": "code",
      "source": [
        "def is_prima (x):\n",
        "  for i in range(2, x):\n",
        "    if x % i == 0:\n",
        "      return False\n",
        "\n",
        "  return True\n",
        "\n",
        "bilangan = int(input('Masukkan bilangan : '))\n",
        "\n",
        "print('Apakah', bilangan, 'adalah bilangan prima?')\n",
        "print(is_prima(bilangan))\n"
      ],
      "metadata": {
        "colab": {
          "base_uri": "https://localhost:8080/"
        },
        "id": "q2NdxWvBBUpV",
        "outputId": "87b9500c-d33f-4897-adac-ed727180180a"
      },
      "execution_count": null,
      "outputs": [
        {
          "output_type": "stream",
          "name": "stdout",
          "text": [
            "Masukkan bilangan : 16\n",
            "Apakah 16 adalah bilangan prima?\n",
            "False\n"
          ]
        }
      ]
    },
    {
      "cell_type": "markdown",
      "source": [
        "Untuk mengetahui apakah suatu bilangan bisa dibagi oleh bilangan lain adalah dengan operator modulus (%). Operator tersebut akan mengembalikan hasil bagi dari 2 operasi. Jika hasil bagi dari 2 operasi bernilai 0, maka itu artinya bilangan tersebut memang bisa dibagi oleh angka pembagi.\n"
      ],
      "metadata": {
        "id": "BdiJ2mGKDk8Y"
      }
    },
    {
      "cell_type": "markdown",
      "source": [
        "### Fungsi pencarian bilangan prima\n",
        "\n",
        "Hal selanjutnya yang bisa kita manfaatkan dari fungsi di atas adalah:\n",
        "\n",
        "* Mencari bilangan prima dari range angka tertentu.\n",
        "\n",
        "Seperti misalkan kita akan mencari bilangan prima dari 1 - 10, atau dari 100 - 200, dan seterusnya.\n",
        "\n",
        "Yang kita buat pertama kali adalah sebuah fungsi yang menerima 2 parameter yaitu angka awal dan angka akhir.\n"
      ],
      "metadata": {
        "id": "JW5OLePKC-Yg"
      }
    },
    {
      "cell_type": "code",
      "source": [
        "def cari_bilangan_prima (awal, akhir):\n",
        "  list_bilangan_prima = []\n",
        "\n",
        "  return list_bilangan_prima\n"
      ],
      "metadata": {
        "id": "aArlbkKsDR4i"
      },
      "execution_count": null,
      "outputs": []
    },
    {
      "cell_type": "markdown",
      "source": [
        "Pada fungsi di atas, kita akan mengembalikan sebuah list yang berisi bilangan prima yang terdapat di antara angka awal sampai angka akhir.\n",
        "\n",
        "Untuk melakukannya kita bisa memanfaatkan fungsi is_prima() yang telah kita buat sebelumnya.\n"
      ],
      "metadata": {
        "id": "45doNF7qD2G_"
      }
    },
    {
      "cell_type": "code",
      "source": [
        "def cari_bilangan_prima (awal, akhir):\n",
        "  list_bilangan_prima = []\n",
        "\n",
        "  for x in range(awal, akhir + 1):\n",
        "    if is_prima(x):\n",
        "      list_bilangan_prima.append(x)\n",
        "\n",
        "  return list_bilangan_prima\n",
        "\n",
        "print(cari_bilangan_prima(10, 20))\n",
        "print(cari_bilangan_prima(100, 200))\n"
      ],
      "metadata": {
        "colab": {
          "base_uri": "https://localhost:8080/"
        },
        "id": "5z9qyjEKD_Y7",
        "outputId": "da896787-d96a-4dfe-feab-4ee6c9a90a6a"
      },
      "execution_count": null,
      "outputs": [
        {
          "output_type": "stream",
          "name": "stdout",
          "text": [
            "[11, 13, 17, 19]\n",
            "[101, 103, 107, 109, 113, 127, 131, 137, 139, 149, 151, 157, 163, 167, 173, 179, 181, 191, 193, 197, 199]\n"
          ]
        }
      ]
    },
    {
      "cell_type": "code",
      "source": [
        "# Tambahkan input\n",
        "\n",
        "def cari_bilangan_prima (awal, akhir):\n",
        "  list_bilangan_prima = []\n",
        "\n",
        "  for x in range(awal, akhir + 1):\n",
        "    if is_prima(x):\n",
        "      list_bilangan_prima.append(x)\n",
        "\n",
        "  return list_bilangan_prima\n",
        "\n",
        "p = int(input('Masukkan nilai awal  : '))\n",
        "q = int(input('Masukkan nilai akhir : '))\n",
        "\n",
        "print(cari_bilangan_prima(p, q))\n"
      ],
      "metadata": {
        "colab": {
          "base_uri": "https://localhost:8080/"
        },
        "id": "Br80EJx7Ewp1",
        "outputId": "22407c5e-a273-4fd7-a2f0-a1cc2bcdcd64"
      },
      "execution_count": null,
      "outputs": [
        {
          "output_type": "stream",
          "name": "stdout",
          "text": [
            "Masukkan nilai awal  : 20\n",
            "Masukkan nilai akhir : 60\n",
            "[23, 29, 31, 37, 41, 43, 47, 53, 59]\n"
          ]
        }
      ]
    },
    {
      "cell_type": "markdown",
      "source": [
        "Pejelasan:\n",
        "\n",
        "* Pada fungsi di atas kita membuat satu buah list dengan nama list_bilangan_prima\n",
        "* List tersebut selanjutnya akan kita isi dengan bilangan-bilangan prima menggunakan fungsi list.append()\n",
        "* Kita melakukan perulangan dari range angka awal sampai angka akhir + 1.\n",
        "   - Kenapa pakai + 1? Itu akibat dari fungsi range() yang tidak menjadikan batas sebagai angka terakhir, sehingga kita perlu menambahkannya dengan angka 1–jika ingin memasukkannya.\n",
        "* Pada setiap iterasi, kita memanggil fungsi is_prima(x) untuk memeriksa apakah nilai x adalah bilangan prima atau bukan.\n",
        "* Jika iya, maka ia akan dimasukkan ke dalam list.\n",
        "* Dan jika tidak, program akan melanjutkan ke iterasi berikutnya\n"
      ],
      "metadata": {
        "id": "4bbrtMJJFYxT"
      }
    },
    {
      "cell_type": "markdown",
      "source": [
        "## Deret Fibonacci Non Rekursif\n",
        "\n",
        "Fibonacci adalah sebuah deret bilangan yang mana setiap anggotanya adalah hasil penjumlahan dari 2 bilangan sebelumnya.\n",
        "\n",
        "Bilangan fibonacci selalu diawali oleh 2 angka, yaitu 0 dan 1.\n",
        "\n",
        "Dan mulai bilangan ke-3, barulah setiap anggota deret fibonacci dikalkulasikan berdasarkan penjumlahan dua angka sebelumnya.\n",
        "\n",
        "Sehingga nilai dari bilangan:\n",
        "\n",
        "Ke-3 adalah hasil dari 0 + 1 = 1\n",
        "Ke-4 adalah hasil dari 1 + 1 = 2\n",
        "Ke-5 adalah hasil dari 2 + 1 = 3\n",
        "Ke-6 adalah hasil dari 3 + 2 = 5\n",
        "Ke-7 adalah hasil dari 5 + 3 = 8\n",
        "dan seterusnya\n",
        "\n",
        "Berikut ini penampakan deret fibonacci dari mulai jumlah deret 2 sampai dengan jumlah deret 10:\n",
        "\n",
        "0 1 \n",
        "\n",
        "0 1 1 \n",
        "\n",
        "0 1 1 2 \n",
        "\n",
        "0 1 1 2 3 \n",
        "\n",
        "0 1 1 2 3 5\n",
        "\n",
        "0 1 1 2 3 5 8\n",
        "\n",
        "0 1 1 2 3 5 8 13\n",
        "\n",
        "0 1 1 2 3 5 8 13 21\n",
        "\n",
        "0 1 1 2 3 5 8 13 21 34\n"
      ],
      "metadata": {
        "id": "KAHPToN3Yczz"
      }
    },
    {
      "cell_type": "markdown",
      "source": [
        "### Menggunakan list\n",
        "\n",
        "Alurnya adalah:\n",
        "\n",
        "1. Yang pertama kita minta user untuk menginputkan panjang deret.\n",
        "2. Kemudian kita siapkan dulu sebuah list dengan isi: 0 dan 1.\n",
        "3. Lalu kita mulai menentukan item ke tiga berdasarkan penjumlahan 2 angka sebelumnya.\n"
      ],
      "metadata": {
        "id": "yP_lavANaAIe"
      }
    },
    {
      "cell_type": "code",
      "source": [
        "# step-1\n",
        "\n",
        "panjang = int(input('Masukkan panjang deret: '))\n",
        "\n",
        "fibo = [0, 1]\n",
        "\n",
        "for i in range(2, panjang):\n",
        "  print(f'deret ke {(i + 1)}')\n"
      ],
      "metadata": {
        "colab": {
          "base_uri": "https://localhost:8080/"
        },
        "id": "vKgj_HeTaoQN",
        "outputId": "66bf93fd-5b9c-4493-ea46-e70c0d825570"
      },
      "execution_count": null,
      "outputs": [
        {
          "output_type": "stream",
          "name": "stdout",
          "text": [
            "Masukkan panjang deret: 10\n",
            "deret ke 3\n",
            "deret ke 4\n",
            "deret ke 5\n",
            "deret ke 6\n",
            "deret ke 7\n",
            "deret ke 8\n",
            "deret ke 9\n",
            "deret ke 10\n"
          ]
        }
      ]
    },
    {
      "cell_type": "code",
      "source": [
        "# step-2\n",
        "\n",
        "panjang = int(input('Masukkan panjang deret: '))\n",
        "\n",
        "fibo = [0, 1]\n",
        "\n",
        "for i in range(2, panjang):\n",
        "  index1 = i - 2\n",
        "  index2 = i - 1\n",
        "  print(f'deret ke {(i + 1)} adalah index-{index1} + index-{index2}')\n"
      ],
      "metadata": {
        "colab": {
          "base_uri": "https://localhost:8080/"
        },
        "id": "GvZfDRBKcbuE",
        "outputId": "0dea52af-799b-4434-edf0-40d32d9afbcb"
      },
      "execution_count": null,
      "outputs": [
        {
          "output_type": "stream",
          "name": "stdout",
          "text": [
            "Masukkan panjang deret: 10\n",
            "deret ke 3 adalah index-0 + index-1\n",
            "deret ke 4 adalah index-1 + index-2\n",
            "deret ke 5 adalah index-2 + index-3\n",
            "deret ke 6 adalah index-3 + index-4\n",
            "deret ke 7 adalah index-4 + index-5\n",
            "deret ke 8 adalah index-5 + index-6\n",
            "deret ke 9 adalah index-6 + index-7\n",
            "deret ke 10 adalah index-7 + index-8\n"
          ]
        }
      ]
    },
    {
      "cell_type": "code",
      "source": [
        "# step-3\n",
        "\n",
        "panjang = int(input('Masukkan panjang deret: '))\n",
        "\n",
        "fibo = [0, 1]\n",
        "\n",
        "for i in range(2, panjang):\n",
        "  angka1 = fibo[i - 2]\n",
        "  angka2 = fibo[i - 1]\n",
        "  angkaSelanjutnya = angka1 + angka2\n",
        "\n",
        "  fibo.append(angkaSelanjutnya)\n",
        "  \n",
        "print(fibo)\n"
      ],
      "metadata": {
        "colab": {
          "base_uri": "https://localhost:8080/"
        },
        "id": "DkfxELigczHf",
        "outputId": "33833f00-3e09-4c5d-ca52-6a7be5a7339d"
      },
      "execution_count": null,
      "outputs": [
        {
          "output_type": "stream",
          "name": "stdout",
          "text": [
            "Masukkan panjang deret: 6\n",
            "[0, 1, 1, 2, 3, 5]\n"
          ]
        }
      ]
    },
    {
      "cell_type": "markdown",
      "source": [
        "Yang kita lakukan pada kode program di atas adalah:\n",
        "\n",
        "Mengambil 2 angka sebelumnya lalu menyimpannya pada 2 variabel (yaitu angka1 dan angka2).\n",
        "Membuat variabel baru dengan nama **angkaSelanjutnya** dengan nilai hasil penjumlahan dari angka1 dan angka2.\n",
        "Hasil penjumlahan tersebut kita masukkan ke dalam list agar bisa digunakan untuk menentukan angka selanjutnya lagi.\n"
      ],
      "metadata": {
        "id": "zy9wGwtHdG1J"
      }
    },
    {
      "cell_type": "markdown",
      "source": [
        "### Menggunakan variabel bantuan\n"
      ],
      "metadata": {
        "id": "5IzGqCSTdWZy"
      }
    },
    {
      "cell_type": "code",
      "source": [
        "# menggunakan dua buah variabel bantuan untuk menyimpan 2 angka sebelumnya.\n",
        "\n",
        "panjang = int(input('Masukkan panjang deret: '))\n",
        "\n",
        "angka1, angka2 = 0, 1\n",
        "\n",
        "# lanjutkan\n",
        "\n",
        "for i in range(panjang):\n",
        "  print(f'perulangan ke-{i}')\n"
      ],
      "metadata": {
        "colab": {
          "base_uri": "https://localhost:8080/"
        },
        "id": "bWN1ZCNUdfJo",
        "outputId": "bf31294c-425d-45ed-85de-2db6eb7d3aab"
      },
      "execution_count": null,
      "outputs": [
        {
          "output_type": "stream",
          "name": "stdout",
          "text": [
            "Masukkan panjang deret: 6\n",
            "perulangan ke-0\n",
            "perulangan ke-1\n",
            "perulangan ke-2\n",
            "perulangan ke-3\n",
            "perulangan ke-4\n",
            "perulangan ke-5\n"
          ]
        }
      ]
    },
    {
      "cell_type": "markdown",
      "source": [
        "Selanjutnya kita akan melakukan percabangan.\n",
        "\n",
        "- jika i sama dengan 0 atau 1, maka kita langsung jalan.\n",
        "- Tapi kalau i lebih dari 1, baru kita akan melakukan penjumlahan.\n"
      ],
      "metadata": {
        "id": "6KHqZthvd_gx"
      }
    },
    {
      "cell_type": "code",
      "source": [
        "panjang = int(input('Masukkan panjang deret: '))\n",
        "\n",
        "angka1, angka2 = 0, 1\n",
        "\n",
        "for i in range(panjang):\n",
        "  if (i < 2):\n",
        "    print(i)\n",
        "  else:\n",
        "    index1 = i - 2\n",
        "    index2 = i - 1\n",
        "    print(f'Penjumlahan dari index-{index1} dan index-{index2}')\n"
      ],
      "metadata": {
        "colab": {
          "base_uri": "https://localhost:8080/"
        },
        "id": "SrCtTeJ5eVFM",
        "outputId": "d9a27936-769e-4b83-cb55-497746391a13"
      },
      "execution_count": null,
      "outputs": [
        {
          "output_type": "stream",
          "name": "stdout",
          "text": [
            "Masukkan panjang deret: 7\n",
            "0\n",
            "1\n",
            "Penjumlahan dari index-0 dan index-1\n",
            "Penjumlahan dari index-1 dan index-2\n",
            "Penjumlahan dari index-2 dan index-3\n",
            "Penjumlahan dari index-3 dan index-4\n",
            "Penjumlahan dari index-4 dan index-5\n"
          ]
        }
      ]
    },
    {
      "cell_type": "markdown",
      "source": [
        "Selanjutnya, kita hanya akan melanjutkan kode program pada bagian blok else, karena di sana lah letak dari “fibonacci” yang sebenarnya.\n"
      ],
      "metadata": {
        "id": "G9eLMgk4ejpQ"
      }
    },
    {
      "cell_type": "code",
      "source": [
        "panjang = int(input('Masukkan panjang deret: '))\n",
        "\n",
        "angka1, angka2 = 0, 1\n",
        "\n",
        "for i in range(panjang):\n",
        "  if (i < 2):\n",
        "    print(i) \n",
        "  else:\n",
        "    angkaSekarang = angka1 + angka2\n",
        "    print(angkaSekarang)\n",
        "    \n",
        "    # update 2 variabel bantuan\n",
        "    angka1 = angka2\n",
        "    angka2 = angkaSekarang\n"
      ],
      "metadata": {
        "colab": {
          "base_uri": "https://localhost:8080/"
        },
        "id": "xRk0Uw6EepLx",
        "outputId": "facb49a0-e9e3-4639-8bcd-9cb814f69ef3"
      },
      "execution_count": null,
      "outputs": [
        {
          "output_type": "stream",
          "name": "stdout",
          "text": [
            "Masukkan panjang deret: 10\n",
            "0\n",
            "1\n",
            "1\n",
            "2\n",
            "3\n",
            "5\n",
            "8\n",
            "13\n",
            "21\n",
            "34\n"
          ]
        }
      ]
    },
    {
      "cell_type": "markdown",
      "source": [
        "Yang kita lakukan pada **blok kode else** di atas adalah:\n",
        "\n",
        "1. menghitung **angkaSekarang** berdasarkan 2 variabel bantuan angka1 dan angka2.\n",
        "2. mencetak **angkaSekarang** ke dalam layar.\n",
        "3. lalu mengupdate dua variabel bantuan agar bisa digunakan untuk menghitung angka berikutnya.\n"
      ],
      "metadata": {
        "id": "FMLC9YPNe7Pw"
      }
    },
    {
      "cell_type": "markdown",
      "source": [
        "Agar bisa menghasilkan output dalam satu baris, kita bisa mengganti bagian print dengan menambahkan parameter end=' ' .\n"
      ],
      "metadata": {
        "id": "l_s5rqcpfNT4"
      }
    },
    {
      "cell_type": "code",
      "source": [
        "panjang = int(input('Masukkan panjang deret: '))\n",
        "\n",
        "angka1, angka2 = 0, 1\n",
        "\n",
        "for i in range(panjang):\n",
        "  if (i < 2):\n",
        "    print(i, end=' ') \n",
        "  else:\n",
        "    angkaSekarang = angka1 + angka2\n",
        "    print(angkaSekarang, end=' ')\n",
        "    \n",
        "    # update 2 variabel bantuan\n",
        "    angka1 = angka2\n",
        "    angka2 = angkaSekarang\n"
      ],
      "metadata": {
        "colab": {
          "base_uri": "https://localhost:8080/"
        },
        "id": "jQwOspVbfYxN",
        "outputId": "710847f3-38f9-4d0b-c46e-d9261b2070d7"
      },
      "execution_count": null,
      "outputs": [
        {
          "output_type": "stream",
          "name": "stdout",
          "text": [
            "Masukkan panjang deret: 10\n",
            "0 1 1 2 3 5 8 13 21 34 "
          ]
        }
      ]
    },
    {
      "cell_type": "markdown",
      "source": [
        "## Deret Fibonacci Dengan Rekursif\n"
      ],
      "metadata": {
        "id": "p7oIbCU9hB3k"
      }
    },
    {
      "cell_type": "markdown",
      "source": [
        "### Membuat fungsi rekursif yang menghasilkan sebuah list\n",
        "\n",
        "Setiap iterasi pemanggilan fungsi harus mengembalikan (menghasilkan) setidaknya satu list dengan satu anggota.\n"
      ],
      "metadata": {
        "id": "SJ7rN-SghUsd"
      }
    },
    {
      "cell_type": "code",
      "source": [
        "# step-1\n",
        "\n",
        "def fibonacci(n):\n",
        "  return [n]\n",
        "\n",
        "print(fibonacci(1))\n",
        "print(fibonacci(2))\n",
        "print(fibonacci(3))\n",
        "print(fibonacci(4))\n"
      ],
      "metadata": {
        "colab": {
          "base_uri": "https://localhost:8080/"
        },
        "id": "aJ0CRM5ghnds",
        "outputId": "09c3ae38-a47d-4af3-b7fe-7881bed9525f"
      },
      "execution_count": null,
      "outputs": [
        {
          "output_type": "stream",
          "name": "stdout",
          "text": [
            "[1]\n",
            "[2]\n",
            "[3]\n",
            "[4]\n"
          ]
        }
      ]
    },
    {
      "cell_type": "code",
      "source": [
        "# step-2\n",
        "\n",
        "def fibonacci (n):\n",
        "  if n < 1:\n",
        "    return [n]\n",
        "\n",
        "  return fibonacci(n - 1) + [n]\n",
        "\n",
        "print(fibonacci(4))\n"
      ],
      "metadata": {
        "colab": {
          "base_uri": "https://localhost:8080/"
        },
        "id": "5G629A1_h2B5",
        "outputId": "abfbf6ae-f561-4056-e418-e196720534fc"
      },
      "execution_count": null,
      "outputs": [
        {
          "output_type": "stream",
          "name": "stdout",
          "text": [
            "[0, 1, 2, 3, 4]\n"
          ]
        }
      ]
    },
    {
      "cell_type": "markdown",
      "source": [
        "Secara singkat, fungsi rekursif di atas akan mengembalikan (menghasilkan) list sebelum n ditambah dengan list yang berisi n itu sendiri.\n",
        "\n",
        "Kalau dibongkar, ia melakukan penjumlahan list sebanyak n + 1.\n",
        "\n",
        "[0] + [1] + [2] + [3] + [4] + [5]\n",
        "\n",
        "--> hasil [0, 1, 2, 3, 4, 5]\n",
        "\n",
        "Kita menginputkan n dengan nilai 5, dan yang kita dapatkan adalah 6 item (karena perulangannya kita buat dari 0).\n"
      ],
      "metadata": {
        "id": "R0eolmAriRJv"
      }
    },
    {
      "cell_type": "markdown",
      "source": [
        "### Persiapan variabel\n",
        "\n",
        "Kita sudah berhasil membuat fungsi rekursif yang mengembalikan/menghasilkan sebuah list. Ini adalah pondasi alur kita.\n",
        "\n",
        "Langkah berikutnya agar alur program menjadi lebih mudah untuk dipahami, mari kita buat beberapa variabel.\n"
      ],
      "metadata": {
        "id": "cdMs23biil0U"
      }
    },
    {
      "cell_type": "code",
      "source": [
        "def fibonacci (n):\n",
        "  if n < 1:\n",
        "    return [n]\n",
        "\n",
        "  listSebelumN = fibonacci(n - 1)\n",
        "  angka1 = listSebelumN[-2] if len(listSebelumN) > 2 else 0\n",
        "  angka2 = listSebelumN[-1] if len(listSebelumN) > 2 else 1\n",
        "\n",
        "  print('listSebelumN', listSebelumN)\n",
        "  print(f'angka1: {angka1}, angka2: {angka2}')\n",
        "\n",
        "  return listSebelumN + [n]\n"
      ],
      "metadata": {
        "id": "BWpAzERCjFu-"
      },
      "execution_count": null,
      "outputs": []
    },
    {
      "cell_type": "markdown",
      "source": [
        "Kalau kita perhatikan, kita telah mengubah proses return dari fungsi fibonacci dari yang awalnya gini:\n",
        "\n",
        "return fibonacci(n - 1) + [n]\n",
        "\n",
        "Menjadi:\n",
        "\n",
        "listSebelumN = fibonacci(n - 1)\n",
        "return listSebelumN + [n]\n"
      ],
      "metadata": {
        "id": "BZ6slS_ljWP9"
      }
    },
    {
      "cell_type": "markdown",
      "source": [
        "Hal ini membuat kita bisa “ngapa-ngapain” dulu dengan list sebelum n. Misal n sekarang sama dengan 5, berarti kita bisa melakukan hal-hal tertentu dengan list 1-4 terlebih dahulu.\n",
        "\n",
        "Dan di dalam kasus di atas, yang kita lakukan adalah mengambil dua buah angka dari list sebelumnya lalu menyimpannya dalam variabel angka1 dan angka2.\n",
        "\n",
        "Kalau kita perhatikan, kita juga melakukan sebuah percabangan satu baris.\n",
        "\n",
        "angka1 = listSebelumN[-2] if len(listSebelumN) > 2 else 0\n",
        "\n",
        "angka2 = listSebelumN[-1] if len(listSebelumN) > 2 else 1\n"
      ],
      "metadata": {
        "id": "HDy7vcvkjxv1"
      }
    },
    {
      "cell_type": "code",
      "source": [
        "# kalo kita panggil fungsinya dan kita cetak --> misal n = 5\n",
        "\n",
        "def fibonacci(n):\n",
        "  if n < 1:\n",
        "    return [n]\n",
        "\n",
        "  listSebelumN = fibonacci(n - 1)\n",
        "  angka1 = listSebelumN[-2] if len(listSebelumN) > 2 else 0\n",
        "  angka2 = listSebelumN[-1] if len(listSebelumN) > 2 else 1\n",
        "\n",
        "  print('listSebelumN', listSebelumN)\n",
        "  print(f'angka1: {angka1}, angka2: {angka2}')\n",
        "\n",
        "  return listSebelumN + [n]\n",
        "\n",
        "print(fibonacci(5))\n"
      ],
      "metadata": {
        "colab": {
          "base_uri": "https://localhost:8080/"
        },
        "id": "jRvgnZ9qkNAB",
        "outputId": "53c04ebf-f44b-49f3-adf1-455659e2ad18"
      },
      "execution_count": null,
      "outputs": [
        {
          "output_type": "stream",
          "name": "stdout",
          "text": [
            "listSebelumN [0]\n",
            "angka1: 0, angka2: 1\n",
            "listSebelumN [0, 1]\n",
            "angka1: 0, angka2: 1\n",
            "listSebelumN [0, 1, 2]\n",
            "angka1: 1, angka2: 2\n",
            "listSebelumN [0, 1, 2, 3]\n",
            "angka1: 2, angka2: 3\n",
            "listSebelumN [0, 1, 2, 3, 4]\n",
            "angka1: 3, angka2: 4\n",
            "[0, 1, 2, 3, 4, 5]\n"
          ]
        }
      ]
    },
    {
      "cell_type": "markdown",
      "source": [
        "### Proses Inti Fibonacci\n",
        "\n",
        "Kita telah melakukan progress lebih dari 80%. Kita telah mengetahui:\n",
        "\n",
        "- list sebelum n\n",
        "- dua angka sebelum n\n",
        "\n",
        "Yang perlu kita lanjutkan untuk menggenapkan proses fibonacci hanya satu saja!\n",
        "\n",
        "Yaitu:\n",
        "\n",
        "- menentukan nilai n berdasarkan hasil penjumlahan 2 angka sebelumnya.\n",
        "\n",
        "Sehingga, kita hanya perlu mengubah satu baris aja yaitu bagian return yang ini:\n",
        "\n",
        "return listSebelumN + [n]\n",
        "\n",
        "Menjadi:\n",
        "\n",
        "return listSebelumN + [angka1 + angka2]\n"
      ],
      "metadata": {
        "id": "yBSIZ_yPkpnV"
      }
    },
    {
      "cell_type": "code",
      "source": [
        "def fibonacci(n):\n",
        "  if n < 1:\n",
        "    return [n]\n",
        "\n",
        "  listSebelumN = fibonacci(n - 1)\n",
        "  angka1 = listSebelumN[-2] if len(listSebelumN) > 2 else 0\n",
        "  angka2 = listSebelumN[-1] if len(listSebelumN) > 2 else 1\n",
        "\n",
        "  print('listSebelumN', listSebelumN)\n",
        "  print(f'angka1: {angka1}, angka2: {angka2}')\n",
        "\n",
        "  return listSebelumN + [angka1 + angka2]\n",
        "\n",
        "print(fibonacci(5))\n",
        "print()\n",
        "print(fibonacci(10))\n"
      ],
      "metadata": {
        "colab": {
          "base_uri": "https://localhost:8080/"
        },
        "id": "SjQKKtvGlR6x",
        "outputId": "3e9d3ccd-f97a-4353-9fa4-168ee53e8429"
      },
      "execution_count": null,
      "outputs": [
        {
          "output_type": "stream",
          "name": "stdout",
          "text": [
            "listSebelumN [0]\n",
            "angka1: 0, angka2: 1\n",
            "listSebelumN [0, 1]\n",
            "angka1: 0, angka2: 1\n",
            "listSebelumN [0, 1, 1]\n",
            "angka1: 1, angka2: 1\n",
            "listSebelumN [0, 1, 1, 2]\n",
            "angka1: 1, angka2: 2\n",
            "listSebelumN [0, 1, 1, 2, 3]\n",
            "angka1: 2, angka2: 3\n",
            "[0, 1, 1, 2, 3, 5]\n",
            "\n",
            "listSebelumN [0]\n",
            "angka1: 0, angka2: 1\n",
            "listSebelumN [0, 1]\n",
            "angka1: 0, angka2: 1\n",
            "listSebelumN [0, 1, 1]\n",
            "angka1: 1, angka2: 1\n",
            "listSebelumN [0, 1, 1, 2]\n",
            "angka1: 1, angka2: 2\n",
            "listSebelumN [0, 1, 1, 2, 3]\n",
            "angka1: 2, angka2: 3\n",
            "listSebelumN [0, 1, 1, 2, 3, 5]\n",
            "angka1: 3, angka2: 5\n",
            "listSebelumN [0, 1, 1, 2, 3, 5, 8]\n",
            "angka1: 5, angka2: 8\n",
            "listSebelumN [0, 1, 1, 2, 3, 5, 8, 13]\n",
            "angka1: 8, angka2: 13\n",
            "listSebelumN [0, 1, 1, 2, 3, 5, 8, 13, 21]\n",
            "angka1: 13, angka2: 21\n",
            "listSebelumN [0, 1, 1, 2, 3, 5, 8, 13, 21, 34]\n",
            "angka1: 21, angka2: 34\n",
            "[0, 1, 1, 2, 3, 5, 8, 13, 21, 34, 55]\n"
          ]
        }
      ]
    },
    {
      "cell_type": "markdown",
      "source": [
        "### Finishing\n",
        "\n",
        "Langkah berikutnya adalah finishing. Tidak perlu aneh-aneh, kita hanya perlu menghapus beberapa print dan membuat perintah input agar panjang deret fibonacci bisa ditentukan oleh user.\n",
        "\n",
        "Berikut ini hasil akhirnya.\n"
      ],
      "metadata": {
        "id": "MNpalOuHlxzx"
      }
    },
    {
      "cell_type": "code",
      "source": [
        "def fibonacci (n):\n",
        "  if n < 1:\n",
        "    return [n]\n",
        "\n",
        "  listSebelumN = fibonacci(n - 1)\n",
        "  angka1 = listSebelumN[-2] if len(listSebelumN) > 2 else 0\n",
        "  angka2 = listSebelumN[-1] if len(listSebelumN) > 2 else 1\n",
        "\n",
        "  return listSebelumN + [angka1 + angka2]\n",
        "\n",
        "panjang = int(input('Masukkan panjang deret:'))\n",
        "\n",
        "# kita kurangin satu agar tidak kelebihan :D\n",
        "print(fibonacci(panjang - 1))\n"
      ],
      "metadata": {
        "colab": {
          "base_uri": "https://localhost:8080/"
        },
        "id": "-2L7dCF1l-U5",
        "outputId": "5f94e95d-fecc-4b2b-bb4c-fdf7e3f33b92"
      },
      "execution_count": null,
      "outputs": [
        {
          "output_type": "stream",
          "name": "stdout",
          "text": [
            "Masukkan panjang deret:10\n",
            "[0, 1, 1, 2, 3, 5, 8, 13, 21, 34]\n"
          ]
        }
      ]
    },
    {
      "cell_type": "markdown",
      "source": [
        "## Menghitung huruf vokal\n"
      ],
      "metadata": {
        "id": "S2ST21ByCkbL"
      }
    },
    {
      "cell_type": "markdown",
      "source": [
        "### Cara 1. Konvensional\n"
      ],
      "metadata": {
        "id": "tycppREnCnxy"
      }
    },
    {
      "cell_type": "code",
      "source": [
        "teks = 'Halo! 😁'\n",
        "\n",
        "# melakukan perulangan pada tiap karakter\n",
        "for karakter in teks:\n",
        "  print(karakter)\n",
        "  "
      ],
      "metadata": {
        "colab": {
          "base_uri": "https://localhost:8080/"
        },
        "id": "x-WqGGMhC1rp",
        "outputId": "d99c3ecd-fc94-4502-bf13-fe95879fb848"
      },
      "execution_count": null,
      "outputs": [
        {
          "output_type": "stream",
          "name": "stdout",
          "text": [
            "H\n",
            "a\n",
            "l\n",
            "o\n",
            "!\n",
            " \n",
            "😁\n"
          ]
        }
      ]
    },
    {
      "cell_type": "code",
      "source": [
        "'''\n",
        "Langkah 1\n",
        "- Meminta user untuk menginputkan sebuah teks kemudian mengubahnya menjadi huruf kecil.\n",
        "- Menyiapkan variabel untuk menyimpan huruf vokal dan variabel pendukung lainnya.\n",
        "'''\n",
        "\n",
        "teks = input('Tuliskan teks: ').lower()\n",
        "\n",
        "huruf_vokal = {\n",
        "  'a': 0,\n",
        "  'i': 0,\n",
        "  'u': 0,\n",
        "  'e': 0,\n",
        "  'o': 0\n",
        "}\n",
        "\n",
        "total_huruf_vokal = 0\n",
        "\n",
        "'''\n",
        "Langkah 2\n",
        "Membuat perulangan\n",
        "'''\n",
        "\n",
        "for karakter in teks:\n",
        "  if karakter in ['a', 'i', 'u', 'e',  'o']:\n",
        "    huruf_vokal[karakter] += 1\n",
        "    total_huruf_vokal += 1\n",
        "\n",
        "print(f'Total karakter: {len(teks)}')\n",
        "print(f'Total huruf vokal: {total_huruf_vokal}')\n",
        "print(f\"\"\"\\\n",
        "  a -> {huruf_vokal['a']}\n",
        "  i -> {huruf_vokal['i']}\n",
        "  u -> {huruf_vokal['u']}\n",
        "  e -> {huruf_vokal['e']}\n",
        "  o -> {huruf_vokal['o']}\\\n",
        "\"\"\")\n",
        "\n"
      ],
      "metadata": {
        "colab": {
          "base_uri": "https://localhost:8080/"
        },
        "id": "hqukj5PQDN8U",
        "outputId": "292d4c53-963b-4578-d717-3f25f093759a"
      },
      "execution_count": null,
      "outputs": [
        {
          "output_type": "stream",
          "name": "stdout",
          "text": [
            "Tuliskan teks: Merdeka Belajar\n",
            "Total karakter: 15\n",
            "Total huruf vokal: 6\n",
            "  a -> 3\n",
            "  i -> 0\n",
            "  u -> 0\n",
            "  e -> 3\n",
            "  o -> 0\n"
          ]
        }
      ]
    },
    {
      "cell_type": "markdown",
      "source": [
        "### Cara 2. Dengan fungsi string.count(), dictionary.keys() dan dictionary.values()\n"
      ],
      "metadata": {
        "id": "zq5DsR-TEUm1"
      }
    },
    {
      "cell_type": "markdown",
      "source": [
        "fungsi string.count().\n",
        "\n",
        "Fungsi tersebut bertugas untuk menghitung berapa kali kemunculan suatu karakter/teks pada sebuah string.\n"
      ],
      "metadata": {
        "id": "naL1NmzqE7-t"
      }
    },
    {
      "cell_type": "code",
      "source": [
        "# ada berapa huruf a dalam kata \"Surabaya\"?\n",
        "print(\"Surabaya\".count('a')) # output -> 3\n",
        "\n",
        "# ada berapa teks \"ta\" pada string \"rata-rata\"?\n",
        "print(\"rata-rata\".count(\"ta\")) # output -> 2\n"
      ],
      "metadata": {
        "colab": {
          "base_uri": "https://localhost:8080/"
        },
        "id": "fBPQRHu4FBS0",
        "outputId": "2baa5d1b-477d-46ef-fb4c-d28f463ca56a"
      },
      "execution_count": null,
      "outputs": [
        {
          "output_type": "stream",
          "name": "stdout",
          "text": [
            "3\n",
            "2\n"
          ]
        }
      ]
    },
    {
      "cell_type": "code",
      "source": [
        "# 1. Persiapan\n",
        "\n",
        "teks = input('Tuliskan teks: ').lower()\n",
        "\n",
        "dictionary_huruf_vokal = {\n",
        "  'a': 0,\n",
        "  'i': 0,\n",
        "  'u': 0,\n",
        "  'e': 0,\n",
        "  'o': 0\n",
        "}\n",
        "\n",
        "\n",
        "# 2. Proses inti\n",
        "\n",
        "for huruf_vokal in dictionary_huruf_vokal.keys():\n",
        "  dictionary_huruf_vokal[huruf_vokal] = teks.count(huruf_vokal)\n"
      ],
      "metadata": {
        "colab": {
          "base_uri": "https://localhost:8080/"
        },
        "id": "58lKMVTHFHY0",
        "outputId": "689e9c51-4c16-484c-ae40-f9ca28901349"
      },
      "execution_count": null,
      "outputs": [
        {
          "name": "stdout",
          "output_type": "stream",
          "text": [
            "Tuliskan teks: Indonesia Raya\n"
          ]
        }
      ]
    },
    {
      "cell_type": "markdown",
      "source": [
        "Pada kode program di atas, kita tidak melakukan perulangan untuk tiap karakter dari variabel teks, tapi yang kita lakukan adalah melakukan perulangan dari karakter a, i, u, e, o.\n",
        "\n",
        "Fungsi **dictionary_huruf_vokal.keys()** akan menghasilkan sebuah list yang berisi setiap key dari dictionary tersebut.\n",
        "\n",
        "Kemudian, kita menghitung jumlah kemunculan tiap huruf vokal dengan perintah **teks.count(huruf_vokal)** lalu menyimpan hasilnya pada variabel **dictionary_huruf_vokal**."
      ],
      "metadata": {
        "id": "tvH7JhPLFhyT"
      }
    },
    {
      "cell_type": "markdown",
      "source": [
        "3. Menghitung jumlah keseluruhan\n",
        "\n",
        "Setelah menyimpan jumlah kemunculan dari masing-masing huruf vokal dalam sebuah dictionary, kita akan menghitung totalnya menggunakan gabungan fungsi **sum()** dan list hasil kembalian dari fungsi **dictionary.values()**.\n"
      ],
      "metadata": {
        "id": "lXR78jycGO2c"
      }
    },
    {
      "cell_type": "code",
      "source": [
        "total_huruf_vokal = sum(dictionary_huruf_vokal.values())\n"
      ],
      "metadata": {
        "id": "FLhM_VtHGuDH"
      },
      "execution_count": null,
      "outputs": []
    },
    {
      "cell_type": "markdown",
      "source": [
        "Fungsi **dictionary.values()** adalah kebalikan dari **dictionary.keys()**, gunanya adalah untuk mengambil setiap value dari dictionary yang bersangkutan dalam bentuk sebuah list.\n",
        "\n",
        "Kemudian list tersebut kita totalkan menggunakan fungsi **sum()**.\n"
      ],
      "metadata": {
        "id": "rpmwd858GyNc"
      }
    },
    {
      "cell_type": "code",
      "source": [
        "# 4. Tampilkan output\n",
        "\n",
        "print(f'Total karakter: {len(teks)}')\n",
        "print(f'Total huruf vokal: {total_huruf_vokal}')\n",
        "print(f\"\"\"\\\n",
        "  a -> {dictionary_huruf_vokal['a']}\n",
        "  i -> {dictionary_huruf_vokal['i']}\n",
        "  u -> {dictionary_huruf_vokal['u']}\n",
        "  e -> {dictionary_huruf_vokal['e']}\n",
        "  o -> {dictionary_huruf_vokal['o']}\\\n",
        "\"\"\")\n"
      ],
      "metadata": {
        "colab": {
          "base_uri": "https://localhost:8080/"
        },
        "id": "4CXAHw1BHLD_",
        "outputId": "5fcda044-3edf-4bdc-9caa-366d99512048"
      },
      "execution_count": null,
      "outputs": [
        {
          "output_type": "stream",
          "name": "stdout",
          "text": [
            "Total karakter: 14\n",
            "Total huruf vokal: 7\n",
            "  a -> 3\n",
            "  i -> 2\n",
            "  u -> 0\n",
            "  e -> 1\n",
            "  o -> 1\n"
          ]
        }
      ]
    },
    {
      "cell_type": "markdown",
      "source": [
        "## Mengitung perpangkatan\n"
      ],
      "metadata": {
        "id": "kMihOi3hJPp_"
      }
    },
    {
      "cell_type": "code",
      "source": [
        "# Cara 1. Operator pangkat **\n",
        "\n",
        "bilangan = int(input('Masukkan bilangan: '))\n",
        "pangkat = int(input('Masukkan pangkat: '))\n",
        "\n",
        "hasil = bilangan ** pangkat\n",
        "\n",
        "print(f'Hasil = {hasil}')\n"
      ],
      "metadata": {
        "colab": {
          "base_uri": "https://localhost:8080/"
        },
        "id": "k9ijJoPIJwbE",
        "outputId": "d7c3df97-8183-44eb-e39f-26aa60e2edfa"
      },
      "execution_count": null,
      "outputs": [
        {
          "output_type": "stream",
          "name": "stdout",
          "text": [
            "Masukkan bilangan: 2\n",
            "Masukkan pangkat: 5\n",
            "Hasil = 32\n"
          ]
        }
      ]
    },
    {
      "cell_type": "code",
      "source": [
        "# Cara 2. Fungsi pow() bawaan python\n",
        "\n",
        "bilangan = int(input('Masukkan bilangan: '))\n",
        "pangkat = int(input('Masukkan pangkat: '))\n",
        "\n",
        "hasil = pow(bilangan, pangkat)\n",
        "print(f'Hasil = {hasil}')\n"
      ],
      "metadata": {
        "colab": {
          "base_uri": "https://localhost:8080/"
        },
        "id": "HWVlBFzKKDH0",
        "outputId": "431e3c1c-c638-4e7d-8171-43a7f3c8d0ec"
      },
      "execution_count": null,
      "outputs": [
        {
          "output_type": "stream",
          "name": "stdout",
          "text": [
            "Masukkan bilangan: 2\n",
            "Masukkan pangkat: 5\n",
            "Hasil = 32\n"
          ]
        }
      ]
    },
    {
      "cell_type": "markdown",
      "source": [
        "Cara 3. Perulangan for\n",
        "\n",
        "Misalkan kita akan menghitung 5 ^ 4.\n",
        "\n",
        "Kita atur dulu variabel hasil menjadi 5.\n",
        "\n",
        "hasil = 5\n",
        "\n",
        "Kemudian kita kalikan dengan angka 5 sebanyak 4 kali.\n",
        "\n",
        "hasil = 5 * 5 # 25\n",
        "\n",
        "hasil = 25 * 5 # 125\n",
        "\n",
        "hasil = 125 * 5 # 625\n",
        "\n",
        "print(hasil) # 625\n"
      ],
      "metadata": {
        "id": "FaAUxPWwLCos"
      }
    },
    {
      "cell_type": "code",
      "source": [
        "# Cara 3. Perulangan for\n",
        "\n",
        "bilangan = int(input('Masukkan bilangan: '))\n",
        "pangkat = int(input('Masukkan pangkat: '))\n",
        "\n",
        "hasil = bilangan\n",
        "\n",
        "for i in range(pangkat - 1):\n",
        "  hasil *= bilangan\n",
        "\n",
        "print(hasil)\n"
      ],
      "metadata": {
        "colab": {
          "base_uri": "https://localhost:8080/"
        },
        "id": "o8S86fVcKUDk",
        "outputId": "c094d51f-c4fd-4a5d-a39b-bff75486d412"
      },
      "execution_count": null,
      "outputs": [
        {
          "output_type": "stream",
          "name": "stdout",
          "text": [
            "Masukkan bilangan: 2\n",
            "Masukkan pangkat: 5\n",
            "32\n"
          ]
        }
      ]
    },
    {
      "cell_type": "code",
      "source": [
        "# Cara 4. Perulangan rekursif\n",
        "\n",
        "bilangan = int(input('Masukkan bilangan: '))\n",
        "pangkat = int(input('Masukkan pangkat: '))\n",
        "\n",
        "def hitung_pangkat(bilangan, pangkat):\n",
        "  if pangkat > 1:\n",
        "    return bilangan * hitung_pangkat(bilangan, pangkat - 1)\n",
        "\n",
        "  return bilangan\n",
        "\n",
        "hasil = hitung_pangkat(bilangan, pangkat)\n",
        "print(f'Hasil = {hasil}')\n"
      ],
      "metadata": {
        "colab": {
          "base_uri": "https://localhost:8080/"
        },
        "id": "23r20In-Lc5Q",
        "outputId": "451026fd-c0b9-453d-f170-87186285c6d2"
      },
      "execution_count": null,
      "outputs": [
        {
          "output_type": "stream",
          "name": "stdout",
          "text": [
            "Masukkan bilangan: 10\n",
            "Masukkan pangkat: 4\n",
            "Hasil = 10000\n"
          ]
        }
      ]
    },
    {
      "cell_type": "markdown",
      "source": [
        "Penjelasan coding perulangan rekursif:\n",
        "\n",
        "Misalkan kita akan mencari hasil dari 10 ^ 4.\n",
        "\n",
        "Maka pada program di atas, kita akan membuat iterasi mundur sebanyak 4 kali. Ilustrasinya seperti berikut:\n",
        "\n",
        "Berapa kah 10 ^ 4?\n",
        "\n",
        "10 ^ 4 = 10 * (10 ^ 3)\n",
        "\n",
        "Berapa 10 ^ 3?\n",
        "\n",
        "10 ^ 3 = 10 * (10 ^ 2)\n",
        "\n",
        "Berapa 10 ^ 2?\n",
        "\n",
        "10 ^ 2 = 10 * (10 ^ 1)\n",
        "\n",
        "Berapa 10 ^ 1?\n",
        "\n",
        "10 ^ 1 = 10"
      ],
      "metadata": {
        "id": "VldsZ77ZLw7m"
      }
    },
    {
      "cell_type": "markdown",
      "source": [
        "## Statistik Sederhana (Mean, Median, Modus)\n",
        "\n",
        "Mean adalah rata-rata dari suatu data.\n",
        "\n",
        "Median adalah nilai tengah dari suatu data.\n",
        "\n",
        "Modus adalah nilai yang paling banyak muncul dari suatu data.\n"
      ],
      "metadata": {
        "id": "MxMeVqX4aIq7"
      }
    },
    {
      "cell_type": "markdown",
      "source": [
        "### Mean secara manual\n"
      ],
      "metadata": {
        "id": "avcTTFwYbosA"
      }
    },
    {
      "cell_type": "code",
      "source": [
        "# Algoritma Narasi input bilangan\n",
        "'''\n",
        "Masukkan deret bilangan (pisahkan dengan koma): 1, 2, 3, 4\n",
        "'''\n",
        "\n",
        "inputan = input('Masukkan deret bilangan (pisahkan dengan koma): ')\n",
        "data = []\n",
        "\n",
        "# konversi inputan ke dalam list yg berisi integer\n",
        "for bilangan in inputan.split(','):\n",
        "    data.append(int(bilangan))\n",
        "\n",
        "print(data)\n"
      ],
      "metadata": {
        "colab": {
          "base_uri": "https://localhost:8080/"
        },
        "id": "V8VVRVTwb5G8",
        "outputId": "c2eb6884-4487-4736-c167-97d6c81bcb50"
      },
      "execution_count": null,
      "outputs": [
        {
          "output_type": "stream",
          "name": "stdout",
          "text": [
            "Masukkan deret bilangan (pisahkan dengan koma): 1,2,3,4,5,6,7,8,9,10\n",
            "[1, 2, 3, 4, 5, 6, 7, 8, 9, 10]\n"
          ]
        }
      ]
    },
    {
      "cell_type": "code",
      "source": [
        "# Bandingkan jika syntax print(data) berada didalam loop\n",
        "\n",
        "inputan = input('Masukkan deret bilangan (pisahkan dengan koma): ')\n",
        "data = []\n",
        "\n",
        "# konversi inputan ke dalam list yg berisi integer\n",
        "for bilangan in inputan.split(','):\n",
        "    data.append(int(bilangan))\n",
        "    print(data)\n"
      ],
      "metadata": {
        "colab": {
          "base_uri": "https://localhost:8080/"
        },
        "id": "uMligGGFcWH0",
        "outputId": "68d4c56f-6bce-40e0-f4d5-1bc8d4944caa"
      },
      "execution_count": null,
      "outputs": [
        {
          "output_type": "stream",
          "name": "stdout",
          "text": [
            "Masukkan deret bilangan (pisahkan dengan koma): 1,2,3,4,5,6,7,8,9,10\n",
            "[1]\n",
            "[1, 2]\n",
            "[1, 2, 3]\n",
            "[1, 2, 3, 4]\n",
            "[1, 2, 3, 4, 5]\n",
            "[1, 2, 3, 4, 5, 6]\n",
            "[1, 2, 3, 4, 5, 6, 7]\n",
            "[1, 2, 3, 4, 5, 6, 7, 8]\n",
            "[1, 2, 3, 4, 5, 6, 7, 8, 9]\n",
            "[1, 2, 3, 4, 5, 6, 7, 8, 9, 10]\n"
          ]
        }
      ]
    },
    {
      "cell_type": "code",
      "source": [
        "# Algoritma Narasi Mean (Rata-Rata)\n",
        "'''\n",
        "rata-rata = sigma data / panjang data\n",
        "rata-rata = (1 + 2 + 3 + 4) / 4\n",
        "rata-rata = 10 / 4\n",
        "rata-rata = 2.5\n",
        "'''\n",
        "\n",
        "inputan = input('Masukkan deret bilangan (pisahkan dengan koma): ')\n",
        "data = []\n",
        "\n",
        "# konversi inputan ke dalam list yg berisi integer\n",
        "for bilangan in inputan.split(','):\n",
        "    data.append(int(bilangan))\n",
        "\n",
        "def rata_rata (deret):\n",
        "  return sum(deret) / len(deret)\n",
        "\n",
        "print(f'Data -> {data}')\n",
        "print(f'Mean -> {rata_rata(data)}')\n"
      ],
      "metadata": {
        "colab": {
          "base_uri": "https://localhost:8080/"
        },
        "id": "sDOra3E-dHQw",
        "outputId": "ef7b23db-7568-4627-f4ab-165931a49367"
      },
      "execution_count": null,
      "outputs": [
        {
          "output_type": "stream",
          "name": "stdout",
          "text": [
            "Masukkan deret bilangan (pisahkan dengan koma): 1,2,3,4\n",
            "Data -> [1, 2, 3, 4]\n",
            "Mean -> 2.5\n"
          ]
        }
      ]
    },
    {
      "cell_type": "markdown",
      "source": [
        "### Mean dengan fungsi\n"
      ],
      "metadata": {
        "id": "8QEQHvrKe2Ij"
      }
    },
    {
      "cell_type": "code",
      "source": [
        "import statistics\n",
        "\n",
        "inputan = input('Masukkan deret bilangan (pisahkan dengan koma): ')\n",
        "data = []\n",
        "\n",
        "# konversi inputan ke dalam list yg berisi integer\n",
        "for bilangan in inputan.split(','):\n",
        "    data.append(int(bilangan))\n",
        "\n",
        "rerata = statistics.mean(data)\n",
        "print(f'Data -> {data}')\n",
        "print(f'Mean -> {rerata}')\n"
      ],
      "metadata": {
        "colab": {
          "base_uri": "https://localhost:8080/"
        },
        "id": "1f6fbXBAe9AC",
        "outputId": "83b649e6-3cd6-438f-8393-4eb9fee1ca92"
      },
      "execution_count": null,
      "outputs": [
        {
          "output_type": "stream",
          "name": "stdout",
          "text": [
            "Masukkan deret bilangan (pisahkan dengan koma): 1,2,3,4\n",
            "Data -> [1, 2, 3, 4]\n",
            "Mean -> 2.5\n"
          ]
        }
      ]
    },
    {
      "cell_type": "markdown",
      "source": [
        "### Median secara manual\n"
      ],
      "metadata": {
        "id": "OhOqyomLfC7Z"
      }
    },
    {
      "cell_type": "code",
      "source": [
        "inputan = input('Masukkan deret bilangan (pisahkan dengan koma): ')\n",
        "data = []\n",
        "\n",
        "# konversi inputan ke dalam list yg berisi integer\n",
        "for bilangan in inputan.split(','):\n",
        "    data.append(int(bilangan))\n",
        "\n",
        "def nilai_tengah(deret):\n",
        "  deret.sort()\n",
        "  n = len(deret) # ambil panjang data\n",
        "  i_tengah = n // 2 # dibulatkan ke bawah\n",
        "\n",
        "  # jika n adalah ganjil\n",
        "  if n % 2 == 1:\n",
        "    return deret[i_tengah]\n",
        "\n",
        "  # jika n genap\n",
        "  return (deret[i_tengah - 1] + deret[i_tengah]) / 2\n",
        "\n",
        "print(f'Data -> {data}')\n",
        "print(f'Median -> {nilai_tengah(data)}')\n"
      ],
      "metadata": {
        "colab": {
          "base_uri": "https://localhost:8080/"
        },
        "id": "_Dmpirlhf_4a",
        "outputId": "300767af-2aa9-46be-a9fb-c6c4431c5e90"
      },
      "execution_count": null,
      "outputs": [
        {
          "output_type": "stream",
          "name": "stdout",
          "text": [
            "Masukkan deret bilangan (pisahkan dengan koma): 1,2,3,4,5,6\n",
            "Data -> [1, 2, 3, 4, 5, 6]\n",
            "Median -> 3.5\n"
          ]
        }
      ]
    },
    {
      "cell_type": "markdown",
      "source": [
        "### Median dengan fungsi\n"
      ],
      "metadata": {
        "id": "1cyDKqdigivS"
      }
    },
    {
      "cell_type": "code",
      "source": [
        "import statistics\n",
        "\n",
        "inputan = input('Masukkan deret bilangan (pisahkan dengan koma): ')\n",
        "data = []\n",
        "\n",
        "# konversi inputan ke dalam list yg berisi integer\n",
        "for bilangan in inputan.split(','):\n",
        "    data.append(int(bilangan))\n",
        "\n",
        "median = statistics.median(data)\n",
        "print(f'Data -> {data}')\n",
        "print(f'Median -> {median}')\n"
      ],
      "metadata": {
        "colab": {
          "base_uri": "https://localhost:8080/"
        },
        "id": "s-xBQukvglq3",
        "outputId": "1b7a635b-dae6-43ce-caf5-29f5e57b8c22"
      },
      "execution_count": null,
      "outputs": [
        {
          "output_type": "stream",
          "name": "stdout",
          "text": [
            "Masukkan deret bilangan (pisahkan dengan koma): 1,2,3,4,5,6,7,8,9\n",
            "Data -> [1, 2, 3, 4, 5, 6, 7, 8, 9]\n",
            "Median -> 5\n"
          ]
        }
      ]
    },
    {
      "cell_type": "markdown",
      "source": [
        "### Modus secara manual\n"
      ],
      "metadata": {
        "id": "18qb7B_-g6Hc"
      }
    },
    {
      "cell_type": "code",
      "source": [
        "inputan = input('Masukkan deret bilangan (pisahkan dengan koma): ')\n",
        "data = []\n",
        "\n",
        "# konversi inputan ke dalam list yg berisi integer\n",
        "for bilangan in inputan.split(','):\n",
        "    data.append(int(bilangan))\n",
        "\n",
        "def nilai_terbanyak(deret):\n",
        "  # dictionary untuk mapping nilai terbanyak\n",
        "  peta_kemunculan = {}\n",
        "\n",
        "  # perulangan satu-persatu tiap bilangan\n",
        "  for bilangan in deret:\n",
        "    # periksa apakah sudah pernah muncul atau belum\n",
        "    if bilangan in peta_kemunculan:\n",
        "      peta_kemunculan[bilangan] += 1\n",
        "    else:\n",
        "      peta_kemunculan[bilangan] = 1\n",
        "\n",
        "  # cari kemunculan terbanyak\n",
        "  bilangan_terbesar = deret[0] # ambil angka pertama sebagai yg terbanyak\n",
        "  for bilangan in peta_kemunculan.keys():\n",
        "    jumlah = peta_kemunculan[bilangan]\n",
        "\n",
        "    if jumlah > peta_kemunculan[bilangan_terbesar]:\n",
        "      bilangan_terbesar = bilangan\n",
        "\n",
        "  return bilangan_terbesar\n",
        "\n",
        "print(f'Data -> {data}')\n",
        "print(f'Modus -> {nilai_terbanyak(data)}')\n"
      ],
      "metadata": {
        "colab": {
          "base_uri": "https://localhost:8080/"
        },
        "id": "Ggdi7lMZhGps",
        "outputId": "69c96c8f-6972-4a9a-c849-1d42068873a1"
      },
      "execution_count": null,
      "outputs": [
        {
          "output_type": "stream",
          "name": "stdout",
          "text": [
            "Masukkan deret bilangan (pisahkan dengan koma): 1,2,3,4,4,7,4,9,1,2,9,6,9,4,9,0\n",
            "Data -> [1, 2, 3, 4, 4, 7, 4, 9, 1, 2, 9, 6, 9, 4, 9, 0]\n",
            "Modus -> 4\n"
          ]
        }
      ]
    },
    {
      "cell_type": "markdown",
      "source": [
        "### Modus dengan fungsi\n"
      ],
      "metadata": {
        "id": "nUIWk-O3hjF8"
      }
    },
    {
      "cell_type": "code",
      "source": [
        "import statistics\n",
        "\n",
        "inputan = input('Masukkan deret bilangan (pisahkan dengan koma): ')\n",
        "data = []\n",
        "\n",
        "# konversi inputan ke dalam list yg berisi integer\n",
        "for bilangan in inputan.split(','):\n",
        "    data.append(int(bilangan))\n",
        "\n",
        "modus = statistics.mode(data)\n",
        "print(f'Data -> {data}')\n",
        "print(f'Modus -> {modus}')\n"
      ],
      "metadata": {
        "colab": {
          "base_uri": "https://localhost:8080/"
        },
        "id": "A_vmf3mAh3la",
        "outputId": "215f3e78-6935-4663-fc8f-b1654d10a5bb"
      },
      "execution_count": null,
      "outputs": [
        {
          "output_type": "stream",
          "name": "stdout",
          "text": [
            "Masukkan deret bilangan (pisahkan dengan koma): 1,2,3,3,5,6,7,3,9,0,3,3,12,34,3,6\n",
            "Data -> [1, 2, 3, 3, 5, 6, 7, 3, 9, 0, 3, 3, 12, 34, 3, 6]\n",
            "Modus -> 3\n"
          ]
        }
      ]
    },
    {
      "cell_type": "markdown",
      "source": [
        "## Mainan Tebak Angka\n"
      ],
      "metadata": {
        "id": "QBp5u7uLnmdQ"
      }
    },
    {
      "cell_type": "code",
      "source": [
        "# Tebak angka\n",
        "# Tingkat kesulitan = mudah\n",
        "\n",
        "import random\n",
        "\n",
        "number = random.randint(1,10)\n",
        "run = True\n",
        "while run:\n",
        "  user_input = int(input('Masukkan angka:'))\n",
        "  if user_input == number:\n",
        "    print(\"You Won!\")\n",
        "    run = False\n",
        "  else:\n",
        "    print(\"Try Again!\")\n",
        "    continue\n"
      ],
      "metadata": {
        "colab": {
          "base_uri": "https://localhost:8080/"
        },
        "id": "mgMFbQPpn65T",
        "outputId": "39b837f2-325c-4309-b5e8-951b768dde82"
      },
      "execution_count": 6,
      "outputs": [
        {
          "output_type": "stream",
          "name": "stdout",
          "text": [
            "Masukkan angka:1\n",
            "Try Again!\n",
            "Masukkan angka:2\n",
            "Try Again!\n",
            "Masukkan angka:3\n",
            "You Won!\n"
          ]
        }
      ]
    }
  ]
}